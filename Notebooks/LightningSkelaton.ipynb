{
 "cells": [
  {
   "cell_type": "markdown",
   "id": "ccebdaa6",
   "metadata": {},
   "source": [
    "# Agentic Interview Prep"
   ]
  },
  {
   "cell_type": "markdown",
   "id": "a751bc05",
   "metadata": {},
   "source": [
    "1) Explore the data\n",
    "\n",
    "2) Come up with:\n",
    "\n",
    "- Random baseline\n",
    "\n",
    "- Trivial baseline\n",
    "\n",
    "3) Start with a simple neural network skelaton to sanity check\n",
    "\n",
    "4) Overfit\n",
    "\n",
    "5) Regulerize \n"
   ]
  },
  {
   "cell_type": "code",
   "execution_count": 1,
   "id": "ef8e99d2",
   "metadata": {},
   "outputs": [],
   "source": [
    "import numpy as np\n",
    "import torch as th\n",
    "import torchvision\n",
    "import torchvision.transforms as transforms"
   ]
  },
  {
   "cell_type": "code",
   "execution_count": 1,
   "id": "2f0e5db0",
   "metadata": {},
   "outputs": [],
   "source": [
    "import matplotlib.pyplot as plt\n",
    "import random\n",
    "from torch.utils.data import DataLoader, Dataset"
   ]
  },
  {
   "cell_type": "markdown",
   "id": "cb6eac8d",
   "metadata": {},
   "source": [
    "### Get The Data"
   ]
  },
  {
   "cell_type": "code",
   "execution_count": 3,
   "id": "dfd7ed2f",
   "metadata": {},
   "outputs": [
    {
     "name": "stdout",
     "output_type": "stream",
     "text": [
      "Downloading http://fashion-mnist.s3-website.eu-central-1.amazonaws.com/train-images-idx3-ubyte.gz\n",
      "Downloading http://fashion-mnist.s3-website.eu-central-1.amazonaws.com/train-images-idx3-ubyte.gz to .\\FashionMNIST\\raw\\train-images-idx3-ubyte.gz\n"
     ]
    },
    {
     "data": {
      "application/vnd.jupyter.widget-view+json": {
       "model_id": "75621b04c61f49089ed9beaa6e3b2a8a",
       "version_major": 2,
       "version_minor": 0
      },
      "text/plain": [
       "  0%|          | 0/26421880 [00:00<?, ?it/s]"
      ]
     },
     "metadata": {},
     "output_type": "display_data"
    },
    {
     "name": "stdout",
     "output_type": "stream",
     "text": [
      "Extracting .\\FashionMNIST\\raw\\train-images-idx3-ubyte.gz to .\\FashionMNIST\\raw\n",
      "\n",
      "Downloading http://fashion-mnist.s3-website.eu-central-1.amazonaws.com/train-labels-idx1-ubyte.gz\n",
      "Downloading http://fashion-mnist.s3-website.eu-central-1.amazonaws.com/train-labels-idx1-ubyte.gz to .\\FashionMNIST\\raw\\train-labels-idx1-ubyte.gz\n"
     ]
    },
    {
     "data": {
      "application/vnd.jupyter.widget-view+json": {
       "model_id": "a0314a6b971c4f758e16bb49c5ac566c",
       "version_major": 2,
       "version_minor": 0
      },
      "text/plain": [
       "  0%|          | 0/29515 [00:00<?, ?it/s]"
      ]
     },
     "metadata": {},
     "output_type": "display_data"
    },
    {
     "name": "stdout",
     "output_type": "stream",
     "text": [
      "Extracting .\\FashionMNIST\\raw\\train-labels-idx1-ubyte.gz to .\\FashionMNIST\\raw\n",
      "\n",
      "Downloading http://fashion-mnist.s3-website.eu-central-1.amazonaws.com/t10k-images-idx3-ubyte.gz\n",
      "Downloading http://fashion-mnist.s3-website.eu-central-1.amazonaws.com/t10k-images-idx3-ubyte.gz to .\\FashionMNIST\\raw\\t10k-images-idx3-ubyte.gz\n"
     ]
    },
    {
     "data": {
      "application/vnd.jupyter.widget-view+json": {
       "model_id": "ee1c5fb4318f409e84213b100ca27f01",
       "version_major": 2,
       "version_minor": 0
      },
      "text/plain": [
       "  0%|          | 0/4422102 [00:00<?, ?it/s]"
      ]
     },
     "metadata": {},
     "output_type": "display_data"
    },
    {
     "name": "stdout",
     "output_type": "stream",
     "text": [
      "Extracting .\\FashionMNIST\\raw\\t10k-images-idx3-ubyte.gz to .\\FashionMNIST\\raw\n",
      "\n",
      "Downloading http://fashion-mnist.s3-website.eu-central-1.amazonaws.com/t10k-labels-idx1-ubyte.gz\n",
      "Downloading http://fashion-mnist.s3-website.eu-central-1.amazonaws.com/t10k-labels-idx1-ubyte.gz to .\\FashionMNIST\\raw\\t10k-labels-idx1-ubyte.gz\n"
     ]
    },
    {
     "data": {
      "application/vnd.jupyter.widget-view+json": {
       "model_id": "5ab6ebf7a8dd43e384a20a8f2f5c8e3d",
       "version_major": 2,
       "version_minor": 0
      },
      "text/plain": [
       "  0%|          | 0/5148 [00:00<?, ?it/s]"
      ]
     },
     "metadata": {},
     "output_type": "display_data"
    },
    {
     "name": "stdout",
     "output_type": "stream",
     "text": [
      "Extracting .\\FashionMNIST\\raw\\t10k-labels-idx1-ubyte.gz to .\\FashionMNIST\\raw\n",
      "\n",
      "Processing...\n",
      "Done!\n"
     ]
    },
    {
     "name": "stderr",
     "output_type": "stream",
     "text": [
      "C:\\Users\\batua\\anaconda3\\envs\\rlnav2\\lib\\site-packages\\torchvision\\datasets\\mnist.py:502: UserWarning: The given NumPy array is not writeable, and PyTorch does not support non-writeable tensors. This means you can write to the underlying (supposedly non-writeable) NumPy array using the tensor. You may want to copy the array to protect its data or make it writeable before converting it to a tensor. This type of warning will be suppressed for the rest of this program. (Triggered internally at  ..\\torch\\csrc\\utils\\tensor_numpy.cpp:143.)\n",
      "  return torch.from_numpy(parsed.astype(m[2], copy=False)).view(*s)\n"
     ]
    }
   ],
   "source": [
    "train_dataset = torchvision.datasets.FashionMNIST(\".\", train=True, download=True, transform = transforms.Compose([\n",
    "        transforms.ToTensor()                            \n",
    "    ]))\n",
    "test_dataset = torchvision.datasets.FashionMNIST(\".\", train=False, download=True, transform = transforms.Compose([\n",
    "        transforms.ToTensor()                               \n",
    "    ]))"
   ]
  },
  {
   "cell_type": "markdown",
   "id": "dc73d219",
   "metadata": {},
   "source": [
    "## Datavis"
   ]
  },
  {
   "cell_type": "code",
   "execution_count": 4,
   "id": "062dae25",
   "metadata": {},
   "outputs": [],
   "source": [
    "x_train, y_train = train_dataset.data.numpy(), train_dataset.targets.numpy(), \n",
    "x_test, y_test = test_dataset.data.numpy(), test_dataset.targets.numpy(), "
   ]
  },
  {
   "cell_type": "code",
   "execution_count": 5,
   "id": "a7f16074",
   "metadata": {},
   "outputs": [
    {
     "name": "stdout",
     "output_type": "stream",
     "text": [
      "The shapes of the train is:(60000, 28, 28), test is (10000, 28, 28) \n"
     ]
    }
   ],
   "source": [
    "print(f\"The shapes of the train is:{x_train.shape}, test is {x_test.shape} \")"
   ]
  },
  {
   "cell_type": "code",
   "execution_count": 6,
   "id": "ad66c81a",
   "metadata": {},
   "outputs": [
    {
     "data": {
      "text/plain": [
       "Text(0.5, 1.0, 'Test')"
      ]
     },
     "execution_count": 6,
     "metadata": {},
     "output_type": "execute_result"
    },
    {
     "data": {
      "image/png": "[encoded data removed]",
      "text/plain": [
       "<Figure size 432x288 with 2 Axes>"
      ]
     },
     "metadata": {
      "needs_background": "light"
     },
     "output_type": "display_data"
    }
   ],
   "source": [
    "fig, (left_ax, right_ax) = plt.subplots(1,2)\n",
    "left_ax.imshow(x_train[0])\n",
    "left_ax.set_title(\"Train\")\n",
    "\n",
    "right_ax.imshow(x_test[0])\n",
    "left_ax.set_title(\"Test\")"
   ]
  },
  {
   "cell_type": "code",
   "execution_count": 7,
   "id": "a4e68518",
   "metadata": {},
   "outputs": [
    {
     "data": {
      "image/png": "[encoded data removed]",
      "text/plain": [
       "<Figure size 1332x756 with 25 Axes>"
      ]
     },
     "metadata": {
      "needs_background": "light"
     },
     "output_type": "display_data"
    }
   ],
   "source": [
    "fig, axes = plt.subplots(5,5)\n",
    "fig.set_size_inches(18.5, 10.5)\n",
    "for ax in axes.flatten():\n",
    "    ax.imshow(random.choice(x_train))"
   ]
  },
  {
   "cell_type": "code",
   "execution_count": 8,
   "id": "08f667fe",
   "metadata": {},
   "outputs": [
    {
     "name": "stdout",
     "output_type": "stream",
     "text": [
      "The max 255\n",
      "The min 0\n",
      "The mean 72.94035223214286\n",
      "The std 90.02118235130519\n"
     ]
    },
    {
     "data": {
      "text/plain": [
       "<matplotlib.image.AxesImage at 0x245434bdc88>"
      ]
     },
     "execution_count": 8,
     "metadata": {},
     "output_type": "execute_result"
    },
    {
     "data": {
      "image/png": "[encoded data removed]",
      "text/plain": [
       "<Figure size 432x288 with 1 Axes>"
      ]
     },
     "metadata": {
      "needs_background": "light"
     },
     "output_type": "display_data"
    }
   ],
   "source": [
    "print(\"The max\", np.max(x_train))\n",
    "print(\"The min\", np.min(x_train))\n",
    "print(\"The mean\", np.mean(x_train))\n",
    "print(\"The std\", np.std(x_train))\n",
    "\n",
    "plt.imshow(np.mean(x_train, axis=0))"
   ]
  },
  {
   "cell_type": "code",
   "execution_count": 9,
   "id": "94250e1f",
   "metadata": {},
   "outputs": [
    {
     "data": {
      "text/plain": [
       "<matplotlib.image.AxesImage at 0x245430846c8>"
      ]
     },
     "execution_count": 9,
     "metadata": {},
     "output_type": "execute_result"
    },
    {
     "data": {
      "image/png": "[encoded data removed]",
      "text/plain": [
       "<Figure size 432x288 with 1 Axes>"
      ]
     },
     "metadata": {
      "needs_background": "light"
     },
     "output_type": "display_data"
    }
   ],
   "source": [
    "plt.imshow(np.std(x_train, axis=0))"
   ]
  },
  {
   "cell_type": "markdown",
   "id": "5255d1fc",
   "metadata": {},
   "source": [
    "## Baselines"
   ]
  },
  {
   "cell_type": "code",
   "execution_count": 10,
   "id": "443bda4f",
   "metadata": {},
   "outputs": [],
   "source": [
    "random_baseline_accuracy = .1"
   ]
  },
  {
   "cell_type": "code",
   "execution_count": 11,
   "id": "434f09a1",
   "metadata": {},
   "outputs": [],
   "source": [
    "class_masks = {}\n",
    "for cls in range(10):\n",
    "    class_masks[cls] = y_train == cls"
   ]
  },
  {
   "cell_type": "code",
   "execution_count": 12,
   "id": "fe6bfaa3",
   "metadata": {},
   "outputs": [
    {
     "name": "stdout",
     "output_type": "stream",
     "text": [
      "Class 0 83.02998044217686\n",
      "Class 1 56.84085522959184\n",
      "Class 2 96.058762542517\n",
      "Class 3 66.01890858843538\n",
      "Class 4 98.25800552721088\n",
      "Class 5 34.86754655612245\n",
      "Class 6 84.60511989795918\n",
      "Class 7 42.76207227891157\n",
      "Class 8 90.15715284863946\n",
      "Class 9 76.80511840986395\n"
     ]
    }
   ],
   "source": [
    "class_means = []\n",
    "for cls, mask in class_masks.items():\n",
    "    means = np.mean(x_train[mask])\n",
    "    print(f\"Class {cls}\", means)\n",
    "    class_means.append(means)\n",
    "class_means = np.array(class_means)"
   ]
  },
  {
   "cell_type": "code",
   "execution_count": 13,
   "id": "81898a5b",
   "metadata": {},
   "outputs": [
    {
     "data": {
      "text/plain": [
       "0.24538333333333334"
      ]
     },
     "execution_count": 13,
     "metadata": {},
     "output_type": "execute_result"
    }
   ],
   "source": [
    "dataset_size = 60000\n",
    "success_count = 0\n",
    "for x, y in zip(x_train[:dataset_size], y_train[:dataset_size]):\n",
    "    img_mean = np.mean(x)\n",
    "    idx = (np.abs(class_means - img_mean)).argmin()\n",
    "    if y == idx:\n",
    "        success_count += 1\n",
    "success_count / dataset_size"
   ]
  },
  {
   "cell_type": "markdown",
   "id": "288262f4",
   "metadata": {},
   "source": [
    "##### Random baseline: 10%\n",
    "##### Trivial baseline: 24.5% "
   ]
  },
  {
   "cell_type": "markdown",
   "id": "8d092eba",
   "metadata": {},
   "source": [
    "## Load the data"
   ]
  },
  {
   "cell_type": "code",
   "execution_count": 14,
   "id": "8b929dd4",
   "metadata": {},
   "outputs": [],
   "source": [
    "batch_size = 32 \n",
    "train_dataset, valid_dataset = th.utils.data.random_split(train_dataset, [55000, 5000])"
   ]
  },
  {
   "cell_type": "code",
   "execution_count": 15,
   "id": "41d9f45e",
   "metadata": {},
   "outputs": [],
   "source": [
    "train_dataloader = DataLoader(train_dataset, batch_size=batch_size, shuffle=True, num_workers=4)\n",
    "valid_dataloader = DataLoader(valid_dataset, batch_size=batch_size, shuffle=False, num_workers=4)\n",
    "test_dataloader  = DataLoader(test_dataset , batch_size=batch_size, shuffle=False, num_workers=4)"
   ]
  },
  {
   "cell_type": "markdown",
   "id": "5c67b0e4",
   "metadata": {},
   "source": [
    "### Simple network"
   ]
  },
  {
   "cell_type": "code",
   "execution_count": 16,
   "id": "bdc8d1d7",
   "metadata": {},
   "outputs": [],
   "source": [
    "import pytorch_lightning as pl\n",
    "import torchmetrics\n",
    "\n",
    "import torch.optim as optim\n",
    "import torch.nn as nn\n",
    "import torch.nn.functional as F\n",
    "\n",
    "from pytorch_lightning.loggers import WandbLogger\n",
    "import wandb"
   ]
  },
  {
   "cell_type": "code",
   "execution_count": 17,
   "id": "cbb5af10",
   "metadata": {},
   "outputs": [],
   "source": [
    "class CNNLightning(pl.LightningModule):\n",
    "    def __init__(self):\n",
    "        super().__init__()\n",
    "        \n",
    "        self.conv1 = nn.Conv2d(in_channels=1, out_channels=6, kernel_size=5)\n",
    "        self.conv2 = nn.Conv2d(in_channels=6, out_channels=12, kernel_size=5)\n",
    "        \n",
    "        self.fc1 = nn.Linear(in_features=12*4*4, out_features=120)\n",
    "        self.fc2 = nn.Linear(in_features=120, out_features=60)\n",
    "        self.out = nn.Linear(in_features=60, out_features=10)\n",
    "    \n",
    "        self.criterion = nn.CrossEntropyLoss()\n",
    "        self.accuracy = torchmetrics.Accuracy()\n",
    "                \n",
    "    def configure_optimizers(self):\n",
    "        optimizer = optim.Adam(self.parameters(), lr=0.003)\n",
    "        return optimizer\n",
    "        \n",
    "    def forward(self, t):  \n",
    "        # conv 1  \n",
    "        t = self.conv1(t)  \n",
    "        t = F.relu(t)  \n",
    "        t = F.max_pool2d(t, kernel_size=2, stride=2)  \n",
    "        \n",
    "        # conv 2  \n",
    "        t = self.conv2(t)   \n",
    "        t = F.relu(t)  \n",
    "        t = F.max_pool2d(t, kernel_size=2, stride=2)   \n",
    "        \n",
    "        # fc1   \n",
    "        t = t.reshape(-1, 12*4*4)  \n",
    "        t = self.fc1(t)  \n",
    "        t = F.relu(t)   \n",
    "        \n",
    "        # fc2  \n",
    "        t = self.fc2(t)  \n",
    "        t = F.relu(t)  \n",
    "        \n",
    "        # output  \n",
    "        t = self.out(t)  \n",
    "\n",
    "        return t\n",
    "    \n",
    "    def training_step(self, train_batch, batch_idx):\n",
    "        x, y = train_batch\n",
    "        \n",
    "        logits = self(x)\n",
    "        loss = self.criterion(logits, y)\n",
    "        self.log(\"train_loss\", loss, on_step=True, on_epoch=True, prog_bar=True, logger=True)\n",
    "        \n",
    "        train_acc = self.accuracy(logits, y)\n",
    "        self.log(\"train_acc\", train_acc, on_step=True, on_epoch=True, prog_bar=True, logger=True)\n",
    "        \n",
    "        return {\"loss\":loss, \"train_acc\":train_acc}\n",
    "    \n",
    "    def validation_step(self, val_batch, batch_idx):\n",
    "        x, y = val_batch\n",
    "        \n",
    "        logits = self(x)\n",
    "        val_loss = self.criterion(logits, y)\n",
    "        self.log(\"val_loss\", val_loss, on_step=True, on_epoch=True, prog_bar=True, logger=True)\n",
    "        \n",
    "        \n",
    "        val_acc = self.accuracy(logits, y)\n",
    "        self.log(\"val_acc\", val_acc, on_step=True, on_epoch=True, prog_bar=True, logger=True)\n",
    "        \n",
    "        return {\"val_loss\":val_loss, \"val_acc\":val_acc}\n",
    "    "
   ]
  },
  {
   "cell_type": "code",
   "execution_count": 18,
   "id": "ec55d30c",
   "metadata": {},
   "outputs": [],
   "source": [
    "model = CNNLightning()"
   ]
  },
  {
   "cell_type": "markdown",
   "id": "b30f5cb1",
   "metadata": {},
   "source": [
    "### Overfitting to one batch"
   ]
  },
  {
   "cell_type": "code",
   "execution_count": 19,
   "id": "09d69ef3",
   "metadata": {},
   "outputs": [],
   "source": [
    "singlebatch_x, singlebatch_y = next(iter(train_dataloader))\n",
    "optimizer = optim.Adam(model.parameters(), lr=0.003)\n",
    "cross_entropy = nn.CrossEntropyLoss()\n",
    "metric = torchmetrics.Accuracy()"
   ]
  },
  {
   "cell_type": "code",
   "execution_count": 20,
   "id": "93de77c3",
   "metadata": {},
   "outputs": [
    {
     "name": "stdout",
     "output_type": "stream",
     "text": [
      "Step 0 Loss: 2.31226 and Accuracy: 0.1875\n",
      "Step 100 Loss: 0.00418 and Accuracy: 1.0\n",
      "Step 200 Loss: 0.00033 and Accuracy: 1.0\n",
      "Step 300 Loss: 0.00014 and Accuracy: 1.0\n",
      "Step 400 Loss: 0.00008 and Accuracy: 1.0\n",
      "Step 500 Loss: 0.00006 and Accuracy: 1.0\n",
      "Step 600 Loss: 0.00004 and Accuracy: 1.0\n",
      "Step 700 Loss: 0.00003 and Accuracy: 1.0\n",
      "Step 800 Loss: 0.00002 and Accuracy: 1.0\n",
      "Step 900 Loss: 0.00001 and Accuracy: 1.0\n",
      "Step 1000 Loss: 0.00001 and Accuracy: 1.0\n"
     ]
    }
   ],
   "source": [
    "for step in range(1001):\n",
    "    logits = model(singlebatch_x)\n",
    "    \n",
    "    loss = cross_entropy(logits, singlebatch_y)\n",
    "    \n",
    "    optimizer.zero_grad()\n",
    "    \n",
    "    loss.backward()\n",
    "    \n",
    "    optimizer.step()\n",
    "\n",
    "    accuracy = metric(logits, singlebatch_y)\n",
    "    \n",
    "    if step % 100 == 0:\n",
    "        print(f\"Step {step} Loss: {loss.item():.5f} and Accuracy: {accuracy}\")    "
   ]
  },
  {
   "cell_type": "markdown",
   "id": "0faa60ea",
   "metadata": {},
   "source": [
    "### Train Neural Network"
   ]
  },
  {
   "cell_type": "code",
   "execution_count": 21,
   "id": "62b2ff36",
   "metadata": {},
   "outputs": [],
   "source": [
    "model = CNNLightning()\n",
    "optimizer = optim.Adam(model.parameters(), lr=3e-4)\n",
    "cross_entropy = nn.CrossEntropyLoss()\n",
    "metric = torchmetrics.Accuracy()\n",
    "\n",
    "all_train_losses = []\n",
    "all_val_losses = []"
   ]
  },
  {
   "cell_type": "code",
   "execution_count": 22,
   "id": "d412f8d8",
   "metadata": {
    "scrolled": true
   },
   "outputs": [
    {
     "name": "stdout",
     "output_type": "stream",
     "text": [
      "----- Epoch 0 -------\n",
      "loss: 2.314924  [    0/55000]\n",
      "loss: 1.432269  [ 3200/55000]\n",
      "loss: 0.828468  [ 6400/55000]\n",
      "loss: 0.672955  [ 9600/55000]\n",
      "loss: 0.960863  [12800/55000]\n",
      "loss: 0.687066  [16000/55000]\n",
      "loss: 0.642498  [19200/55000]\n",
      "loss: 0.854102  [22400/55000]\n",
      "loss: 0.618438  [25600/55000]\n",
      "loss: 0.634066  [28800/55000]\n",
      "loss: 0.577960  [32000/55000]\n",
      "loss: 0.345867  [35200/55000]\n",
      "loss: 0.483489  [38400/55000]\n",
      "loss: 1.082173  [41600/55000]\n",
      "loss: 0.453895  [44800/55000]\n",
      "loss: 0.514887  [48000/55000]\n",
      "loss: 0.498791  [51200/55000]\n",
      "loss: 0.529374  [54400/55000]\n",
      "Epoch 0: Train loss 0.80378, Train Acc 0.69760\n",
      "      Val loss 0.59791, Val Acc 0.77110\n",
      "----- Epoch 1 -------\n",
      "loss: 0.623116  [    0/55000]\n",
      "loss: 0.507884  [ 3200/55000]\n",
      "loss: 0.486958  [ 6400/55000]\n",
      "loss: 0.464839  [ 9600/55000]\n",
      "loss: 0.553948  [12800/55000]\n",
      "loss: 0.509934  [16000/55000]\n",
      "loss: 0.369673  [19200/55000]\n",
      "loss: 0.424294  [22400/55000]\n",
      "loss: 0.565455  [25600/55000]\n",
      "loss: 0.456614  [28800/55000]\n",
      "loss: 0.412483  [32000/55000]\n",
      "loss: 0.326575  [35200/55000]\n",
      "loss: 0.411692  [38400/55000]\n",
      "loss: 0.684977  [41600/55000]\n",
      "loss: 0.718869  [44800/55000]\n",
      "loss: 0.434519  [48000/55000]\n",
      "loss: 0.450486  [51200/55000]\n",
      "loss: 0.345852  [54400/55000]\n",
      "Epoch 1: Train loss 0.54273, Train Acc 0.79500\n",
      "      Val loss 0.47553, Val Acc 0.83002\n",
      "----- Epoch 2 -------\n",
      "loss: 0.336194  [    0/55000]\n",
      "loss: 0.260203  [ 3200/55000]\n",
      "loss: 0.442399  [ 6400/55000]\n",
      "loss: 0.294481  [ 9600/55000]\n",
      "loss: 0.701954  [12800/55000]\n",
      "loss: 0.337484  [16000/55000]\n",
      "loss: 0.620174  [19200/55000]\n",
      "loss: 0.545304  [22400/55000]\n",
      "loss: 0.566248  [25600/55000]\n",
      "loss: 0.307023  [28800/55000]\n",
      "loss: 0.472212  [32000/55000]\n",
      "loss: 0.448640  [35200/55000]\n",
      "loss: 0.393079  [38400/55000]\n",
      "loss: 0.532753  [41600/55000]\n",
      "loss: 0.387971  [44800/55000]\n",
      "loss: 0.353646  [48000/55000]\n",
      "loss: 0.546299  [51200/55000]\n",
      "loss: 0.621313  [54400/55000]\n",
      "Epoch 2: Train loss 0.47508, Train Acc 0.82622\n",
      "      Val loss 0.42771, Val Acc 0.84952\n",
      "----- Epoch 3 -------\n",
      "loss: 0.367956  [    0/55000]\n",
      "loss: 0.685221  [ 3200/55000]\n",
      "loss: 0.698846  [ 6400/55000]\n",
      "loss: 0.653579  [ 9600/55000]\n",
      "loss: 0.388753  [12800/55000]\n",
      "loss: 0.275617  [16000/55000]\n",
      "loss: 0.394303  [19200/55000]\n",
      "loss: 0.654982  [22400/55000]\n",
      "loss: 0.376941  [25600/55000]\n",
      "loss: 0.855142  [28800/55000]\n",
      "loss: 0.556571  [32000/55000]\n",
      "loss: 0.379999  [35200/55000]\n",
      "loss: 0.270059  [38400/55000]\n",
      "loss: 0.509861  [41600/55000]\n",
      "loss: 0.462418  [44800/55000]\n",
      "loss: 0.742439  [48000/55000]\n",
      "loss: 0.265491  [51200/55000]\n",
      "loss: 0.533023  [54400/55000]\n",
      "Epoch 3: Train loss 0.43258, Train Acc 0.84296\n",
      "      Val loss 0.41148, Val Acc 0.84932\n",
      "----- Epoch 4 -------\n",
      "loss: 0.564518  [    0/55000]\n",
      "loss: 0.691430  [ 3200/55000]\n",
      "loss: 0.155291  [ 6400/55000]\n",
      "loss: 0.562882  [ 9600/55000]\n",
      "loss: 0.510727  [12800/55000]\n",
      "loss: 0.536523  [16000/55000]\n",
      "loss: 0.453776  [19200/55000]\n",
      "loss: 0.268842  [22400/55000]\n",
      "loss: 0.209841  [25600/55000]\n",
      "loss: 0.227968  [28800/55000]\n",
      "loss: 0.650279  [32000/55000]\n",
      "loss: 0.452127  [35200/55000]\n",
      "loss: 0.308054  [38400/55000]\n",
      "loss: 0.375063  [41600/55000]\n",
      "loss: 0.512862  [44800/55000]\n",
      "loss: 0.302204  [48000/55000]\n",
      "loss: 0.448222  [51200/55000]\n",
      "loss: 0.170886  [54400/55000]\n",
      "Epoch 4: Train loss 0.40565, Train Acc 0.85273\n",
      "      Val loss 0.36293, Val Acc 0.87480\n"
     ]
    }
   ],
   "source": [
    "num_epochs = 5\n",
    "\n",
    "for epoch in range(num_epochs):\n",
    "    epoch_losses = []\n",
    "    epoch_val_losses = []\n",
    "\n",
    "    accuracies = []\n",
    "    val_accuracies = []\n",
    "\n",
    "    model.train()\n",
    "    print(f\"----- Epoch {epoch} -------\")\n",
    "    for batch, train_batch in enumerate(train_dataloader):\n",
    "        x, y = train_batch\n",
    "        \n",
    "        logits = model(x)\n",
    "        loss = cross_entropy(logits, y)\n",
    "        \n",
    "        optimizer.zero_grad()\n",
    "        loss.backward()\n",
    "        optimizer.step()\n",
    "        \n",
    "        train_acc = metric(logits, y)\n",
    "        \n",
    "        epoch_losses.append(loss.item())\n",
    "        accuracies.append(train_acc.item())\n",
    "        \n",
    "        if batch % 100 == 0:\n",
    "            loss, current = loss.item(), batch * len(x)\n",
    "            print(f\"loss: {loss:>7f}  [{current:>5d}/{len(train_dataloader.dataset):>5d}]\")\n",
    "        \n",
    "    model.eval()\n",
    "    with th.set_grad_enabled(False):\n",
    "        for step, val_batch in enumerate(valid_dataloader):\n",
    "            x_val, y_val = val_batch\n",
    "\n",
    "            logits = model(x_val)\n",
    "            val_loss = cross_entropy(logits, y_val)\n",
    "            val_acc = metric(logits, y_val)\n",
    "            \n",
    "            epoch_val_losses.append(val_loss.item())\n",
    "            val_accuracies.append(val_acc.item())\n",
    "\n",
    "            \n",
    "    print(f\"Epoch {epoch}: Train loss {th.tensor(epoch_losses).mean():.5f}, Train Acc {th.tensor(accuracies).mean():.5f}\")\n",
    "    print(f\"      Val loss {th.tensor(epoch_val_losses).mean():.5f}, Val Acc {th.tensor(val_accuracies).mean():.5f}\")   \n",
    "    \n",
    "    all_train_losses.append(th.tensor(epoch_losses).mean())\n",
    "    all_val_losses.append(th.tensor(epoch_val_losses).mean())    "
   ]
  },
  {
   "cell_type": "code",
   "execution_count": 23,
   "id": "9c1a2f57",
   "metadata": {},
   "outputs": [
    {
     "data": {
      "text/plain": [
       "[<matplotlib.lines.Line2D at 0x245432c5448>]"
      ]
     },
     "execution_count": 23,
     "metadata": {},
     "output_type": "execute_result"
    },
    {
     "data": {
      "image/png": "[encoded data removed]",
      "text/plain": [
       "<Figure size 432x288 with 1 Axes>"
      ]
     },
     "metadata": {
      "needs_background": "light"
     },
     "output_type": "display_data"
    }
   ],
   "source": [
    "plt.plot(range(len(all_train_losses)), all_train_losses)\n",
    "plt.plot(range(len(all_val_losses)), all_val_losses)"
   ]
  },
  {
   "cell_type": "code",
   "execution_count": null,
   "id": "2e815141",
   "metadata": {},
   "outputs": [],
   "source": []
  },
  {
   "cell_type": "markdown",
   "id": "8b30b5cd",
   "metadata": {},
   "source": [
    "### Train Neural Network PL"
   ]
  },
  {
   "cell_type": "code",
   "execution_count": 24,
   "id": "e408ec52",
   "metadata": {},
   "outputs": [
    {
     "name": "stderr",
     "output_type": "stream",
     "text": [
      "GPU available: True, used: True\n",
      "TPU available: False, using: 0 TPU cores\n",
      "IPU available: False, using: 0 IPUs\n"
     ]
    }
   ],
   "source": [
    "model = CNNLightning()\n",
    "\n",
    "wandb_logger = WandbLogger(project=\"AgenticPrep\")\n",
    "\n",
    "trainer = pl.Trainer(gpus=1, max_epochs=5, logger=wandb_logger)"
   ]
  },
  {
   "cell_type": "code",
   "execution_count": 25,
   "id": "b43a24f1",
   "metadata": {},
   "outputs": [
    {
     "name": "stderr",
     "output_type": "stream",
     "text": [
      "LOCAL_RANK: 0 - CUDA_VISIBLE_DEVICES: [0]\n",
      "\u001b[34m\u001b[1mwandb\u001b[0m: Currently logged in as: \u001b[33mbatu\u001b[0m (use `wandb login --relogin` to force relogin)\n",
      "\u001b[34m\u001b[1mwandb\u001b[0m: wandb version 0.12.6 is available!  To upgrade, please run:\n",
      "\u001b[34m\u001b[1mwandb\u001b[0m:  $ pip install wandb --upgrade\n"
     ]
    },
    {
     "data": {
      "text/html": [
       "\n",
       "                Tracking run with wandb version 0.12.1<br/>\n",
       "                Syncing run <strong style=\"color:#cdcd00\">misty-dust-3</strong> to <a href=\"https://wandb.ai\" target=\"_blank\">Weights & Biases</a> <a href=\"https://docs.wandb.com/integrations/jupyter.html\" target=\"_blank\">(Documentation)</a>.<br/>\n",
       "                Project page: <a href=\"https://wandb.ai/batu/AgenticPrep\" target=\"_blank\">https://wandb.ai/batu/AgenticPrep</a><br/>\n",
       "                Run page: <a href=\"https://wandb.ai/batu/AgenticPrep/runs/15twccyj\" target=\"_blank\">https://wandb.ai/batu/AgenticPrep/runs/15twccyj</a><br/>\n",
       "                Run data is saved locally in <code>C:\\Users\\batua\\Desktop\\New folder\\wandb\\run-20211027_132753-15twccyj</code><br/><br/>\n",
       "            "
      ],
      "text/plain": [
       "<IPython.core.display.HTML object>"
      ]
     },
     "metadata": {},
     "output_type": "display_data"
    },
    {
     "name": "stderr",
     "output_type": "stream",
     "text": [
      "\n",
      "  | Name      | Type             | Params\n",
      "-----------------------------------------------\n",
      "0 | conv1     | Conv2d           | 156   \n",
      "1 | conv2     | Conv2d           | 1.8 K \n",
      "2 | fc1       | Linear           | 23.2 K\n",
      "3 | fc2       | Linear           | 7.3 K \n",
      "4 | out       | Linear           | 610   \n",
      "5 | criterion | CrossEntropyLoss | 0     \n",
      "6 | accuracy  | Accuracy         | 0     \n",
      "-----------------------------------------------\n",
      "33.0 K    Trainable params\n",
      "0         Non-trainable params\n",
      "33.0 K    Total params\n",
      "0.132     Total estimated model params size (MB)\n"
     ]
    },
    {
     "data": {
      "application/vnd.jupyter.widget-view+json": {
       "model_id": "",
       "version_major": 2,
       "version_minor": 0
      },
      "text/plain": [
       "Validation sanity check: 0it [00:00, ?it/s]"
      ]
     },
     "metadata": {},
     "output_type": "display_data"
    },
    {
     "data": {
      "application/vnd.jupyter.widget-view+json": {
       "model_id": "f33809fa1b194efc9feb7a2202477598",
       "version_major": 2,
       "version_minor": 0
      },
      "text/plain": [
       "Training: -1it [00:00, ?it/s]"
      ]
     },
     "metadata": {},
     "output_type": "display_data"
    },
    {
     "data": {
      "application/vnd.jupyter.widget-view+json": {
       "model_id": "",
       "version_major": 2,
       "version_minor": 0
      },
      "text/plain": [
       "Validating: 0it [00:00, ?it/s]"
      ]
     },
     "metadata": {},
     "output_type": "display_data"
    },
    {
     "data": {
      "application/vnd.jupyter.widget-view+json": {
       "model_id": "",
       "version_major": 2,
       "version_minor": 0
      },
      "text/plain": [
       "Validating: 0it [00:00, ?it/s]"
      ]
     },
     "metadata": {},
     "output_type": "display_data"
    },
    {
     "data": {
      "application/vnd.jupyter.widget-view+json": {
       "model_id": "",
       "version_major": 2,
       "version_minor": 0
      },
      "text/plain": [
       "Validating: 0it [00:00, ?it/s]"
      ]
     },
     "metadata": {},
     "output_type": "display_data"
    },
    {
     "data": {
      "application/vnd.jupyter.widget-view+json": {
       "model_id": "",
       "version_major": 2,
       "version_minor": 0
      },
      "text/plain": [
       "Validating: 0it [00:00, ?it/s]"
      ]
     },
     "metadata": {},
     "output_type": "display_data"
    },
    {
     "data": {
      "application/vnd.jupyter.widget-view+json": {
       "model_id": "",
       "version_major": 2,
       "version_minor": 0
      },
      "text/plain": [
       "Validating: 0it [00:00, ?it/s]"
      ]
     },
     "metadata": {},
     "output_type": "display_data"
    }
   ],
   "source": [
    "trainer.fit(model, train_dataloader, val_dataloaders=valid_dataloader)"
   ]
  },
  {
   "cell_type": "markdown",
   "id": "23ccda85",
   "metadata": {},
   "source": [
    "### Test"
   ]
  },
  {
   "cell_type": "code",
   "execution_count": 26,
   "id": "bf29ec3d",
   "metadata": {},
   "outputs": [
    {
     "name": "stdout",
     "output_type": "stream",
     "text": [
      "0.8861465\n"
     ]
    }
   ],
   "source": [
    "metric = torchmetrics.Accuracy()\n",
    "accuracies = []\n",
    "for batch in valid_dataloader:\n",
    "    x, y = batch\n",
    "    pred = model(x)\n",
    "    accuracies.append(metric(y, pred.argmax(dim=1)))\n",
    "\n",
    "validation_accuracy = np.array(accuracies).mean()\n",
    "wandb.log({\"fin_val_accuracy\": validation_accuracy})\n",
    "print(validation_accuracy)"
   ]
  },
  {
   "cell_type": "markdown",
   "id": "e2f38a26",
   "metadata": {},
   "source": [
    "### Custom Dataset"
   ]
  },
  {
   "cell_type": "code",
   "execution_count": 27,
   "id": "8c7d31f0",
   "metadata": {},
   "outputs": [
    {
     "ename": "NameError",
     "evalue": "name 'Dataset' is not defined",
     "output_type": "error",
     "traceback": [
      "\u001b[1;31m---------------------------------------------------------------------------\u001b[0m",
      "\u001b[1;31mNameError\u001b[0m                                 Traceback (most recent call last)",
      "\u001b[1;32m~\\AppData\\Local\\Temp/ipykernel_15036/2131984888.py\u001b[0m in \u001b[0;36m<module>\u001b[1;34m\u001b[0m\n\u001b[1;32m----> 1\u001b[1;33m \u001b[1;32mclass\u001b[0m \u001b[0mCustomImageDataset\u001b[0m\u001b[1;33m(\u001b[0m\u001b[0mDataset\u001b[0m\u001b[1;33m)\u001b[0m\u001b[1;33m:\u001b[0m\u001b[1;33m\u001b[0m\u001b[1;33m\u001b[0m\u001b[0m\n\u001b[0m\u001b[0;32m      2\u001b[0m     \u001b[1;32mdef\u001b[0m \u001b[0m__init__\u001b[0m\u001b[1;33m(\u001b[0m\u001b[0mself\u001b[0m\u001b[1;33m,\u001b[0m \u001b[0mtransform\u001b[0m\u001b[1;33m=\u001b[0m\u001b[1;32mNone\u001b[0m\u001b[1;33m,\u001b[0m \u001b[0mtarget_transform\u001b[0m\u001b[1;33m=\u001b[0m\u001b[1;32mNone\u001b[0m\u001b[1;33m)\u001b[0m\u001b[1;33m:\u001b[0m\u001b[1;33m\u001b[0m\u001b[1;33m\u001b[0m\u001b[0m\n\u001b[0;32m      3\u001b[0m         \u001b[0mself\u001b[0m\u001b[1;33m.\u001b[0m\u001b[0mtransform\u001b[0m \u001b[1;33m=\u001b[0m \u001b[0mtransform\u001b[0m\u001b[1;33m\u001b[0m\u001b[1;33m\u001b[0m\u001b[0m\n\u001b[0;32m      4\u001b[0m         \u001b[0mself\u001b[0m\u001b[1;33m.\u001b[0m\u001b[0mtarget_transform\u001b[0m \u001b[1;33m=\u001b[0m \u001b[0mtarget_transform\u001b[0m\u001b[1;33m\u001b[0m\u001b[1;33m\u001b[0m\u001b[0m\n\u001b[0;32m      5\u001b[0m \u001b[1;33m\u001b[0m\u001b[0m\n",
      "\u001b[1;31mNameError\u001b[0m: name 'Dataset' is not defined"
     ]
    }
   ],
   "source": [
    "class CustomImageDataset(Dataset):\n",
    "    def __init__(self, transform=None, target_transform=None):\n",
    "        self.transform = transform\n",
    "        self.target_transform = target_transform\n",
    "\n",
    "    def __len__(self):\n",
    "        return len(self.img_labels)\n",
    "\n",
    "    def __getitem__(self, idx):\n",
    "        return\n",
    "        if self.transform:\n",
    "            image = self.transform(image)\n",
    "        if self.target_transform:\n",
    "            label = self.target_transform(label)\n",
    "        return image, label"
   ]
  },
  {
   "cell_type": "markdown",
   "id": "763f37a3",
   "metadata": {},
   "source": [
    "### Transfer Learning"
   ]
  },
  {
   "cell_type": "code",
   "execution_count": null,
   "id": "35b75eac",
   "metadata": {},
   "outputs": [],
   "source": [
    "import torchvision.models as models"
   ]
  },
  {
   "cell_type": "code",
   "execution_count": null,
   "id": "cad109aa",
   "metadata": {},
   "outputs": [],
   "source": [
    "class CNNTransfer(pl.LightningModule):\n",
    "    def __init__(self):\n",
    "        super().__init__()\n",
    "        \n",
    "        # init a pretrained resnet\n",
    "        backbone = models.resnet50(pretrained=True)\n",
    "        num_filters = backbone.fc.in_features\n",
    "        layers = list(backbone.children())[:-1]\n",
    "        self.feature_extractor = nn.Sequential(*layers)\n",
    "\n",
    "        # use the pretrained model to classify cifar-10 (10 image classes)\n",
    "        num_target_classes = 10\n",
    "        self.classifier = nn.Linear(num_filters, num_target_classes)\n",
    "    \n",
    "        self.criterion = nn.CrossEntropyLoss()\n",
    "        self.accuracy = torchmetrics.Accuracy()\n",
    "                \n",
    "    def configure_optimizers(self):\n",
    "        optimizer = optim.Adam(self.parameters(), lr=0.003)\n",
    "        return optimizer\n",
    "        \n",
    "    def forward(self, x):  \n",
    "        self.feature_extractor.eval()\n",
    "        with th.no_grad():\n",
    "            representations = self.feature_extractor(x).flatten(1)\n",
    "        x = self.classifier(representations)\n",
    "\n",
    "        return t\n",
    "    \n",
    "    def training_step(self, train_batch, batch_idx):\n",
    "        x, y = train_batch\n",
    "        \n",
    "        logits = self(x)\n",
    "        loss = self.criterion(logits, y)\n",
    "        self.log(\"train_loss\", loss, on_step=True, on_epoch=True, prog_bar=True, logger=True)\n",
    "        \n",
    "        train_acc = self.accuracy(logits, y)\n",
    "        self.log(\"train_acc\", train_acc, on_step=True, on_epoch=True, prog_bar=True, logger=True)\n",
    "        \n",
    "        return {\"loss\":loss, \"train_acc\":train_acc}\n",
    "    \n",
    "    def validation_step(self, val_batch, batch_idx):\n",
    "        x, y = val_batch\n",
    "        \n",
    "        logits = self(x)\n",
    "        val_loss = self.criterion(logits, y)\n",
    "        self.log(\"val_loss\", val_loss, on_step=True, on_epoch=True, prog_bar=True, logger=True)\n",
    "        \n",
    "        \n",
    "        val_acc = self.accuracy(logits, y)\n",
    "        self.log(\"val_acc\", val_acc, on_step=True, on_epoch=True, prog_bar=True, logger=True)\n",
    "        \n",
    "        return {\"val_loss\":val_loss, \"val_acc\":val_acc}\n",
    "    "
   ]
  },
  {
   "cell_type": "code",
   "execution_count": null,
   "id": "c0f5a723",
   "metadata": {},
   "outputs": [],
   "source": []
  }
 ],
 "metadata": {
  "kernelspec": {
   "display_name": "Python 3 (ipykernel)",
   "language": "python",
   "name": "python3"
  },
  "language_info": {
   "codemirror_mode": {
    "name": "ipython",
    "version": 3
   },
   "file_extension": ".py",
   "mimetype": "text/x-python",
   "name": "python",
   "nbconvert_exporter": "python",
   "pygments_lexer": "ipython3",
   "version": "3.7.10"
  }
 },
 "nbformat": 4,
 "nbformat_minor": 5
}
