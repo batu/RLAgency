{
 "cells": [
  {
   "cell_type": "markdown",
   "metadata": {
    "colab": {
     "base_uri": "https://localhost:8080/"
    },
    "id": "L_wK2B8JJwsQ",
    "outputId": "34529116-8689-4cf3-9467-58da865821ac"
   },
   "source": [
    "# Reinforcement Learning for Navigation Network Study"
   ]
  },
  {
   "cell_type": "code",
   "execution_count": 1,
   "metadata": {},
   "outputs": [],
   "source": [
    "from stable_baselines3 import SAC\n",
    "from stable_baselines3.common.vec_env import MultiAgentVecEnv\n",
    "\n",
    "from mlagents_envs.exception import UnityTimeOutException, UnityWorkerInUseException\n",
    "from mlagents_envs.side_channel.engine_configuration_channel import EngineConfigurationChannel\n",
    "\n",
    "import torch as th\n",
    "\n",
    "import os, yaml\n",
    "import random\n",
    "import time\n",
    "import datetime\n",
    "import numpy as np\n",
    "import torch as th\n",
    "from torch import nn\n",
    "\n",
    "from mlagents_envs.environment import UnityEnvironment\n",
    "from gym_unity.envs import UnityToMultiGymWrapper \n",
    "import wandb\n",
    "from rlnav.logging import WANDBMonitor, test_model\n",
    "from rlnav.schedules import linear_schedule\n",
    "from pathlib import Path"
   ]
  },
  {
   "cell_type": "code",
   "execution_count": 2,
   "metadata": {},
   "outputs": [],
   "source": [
    "from torchsummary import summary"
   ]
  },
  {
   "cell_type": "code",
   "execution_count": 3,
   "metadata": {},
   "outputs": [
    {
     "name": "stdout",
     "output_type": "stream",
     "text": [
      "Populating the interactive namespace from numpy and matplotlib\n"
     ]
    },
    {
     "name": "stderr",
     "output_type": "stream",
     "text": [
      "C:\\Users\\batua\\anaconda3\\envs\\rlnav\\lib\\site-packages\\IPython\\core\\magics\\pylab.py:160: UserWarning: pylab import has clobbered these variables: ['random']\n",
      "`%matplotlib` prevents importing * from pylab and numpy\n",
      "  \"\\n`%matplotlib` prevents importing * from pylab and numpy\"\n"
     ]
    }
   ],
   "source": [
    "%load_ext autoreload\n",
    "%autoreload 2\n",
    "%pylab inline"
   ]
  },
  {
   "cell_type": "code",
   "execution_count": 4,
   "metadata": {},
   "outputs": [
    {
     "data": {
      "text/plain": [
       "device(type='cuda')"
      ]
     },
     "execution_count": 4,
     "metadata": {},
     "output_type": "execute_result"
    }
   ],
   "source": [
    "device = th.device('cuda' if th.cuda.is_available() else 'cpu')\n",
    "device"
   ]
  },
  {
   "cell_type": "markdown",
   "metadata": {},
   "source": [
    "## The Incoming Data"
   ]
  },
  {
   "cell_type": "markdown",
   "metadata": {},
   "source": [
    "![The Point the data is gathered](tmp/Observation.png \"The observation\")"
   ]
  },
  {
   "cell_type": "code",
   "execution_count": 5,
   "metadata": {},
   "outputs": [
    {
     "name": "stdout",
     "output_type": "stream",
     "text": [
      "Loaded shape: (10000, 1, 505)\n"
     ]
    }
   ],
   "source": [
    "observations = np.load('observation505_fixed.npy')\n",
    "print(\"Loaded shape:\", observations.shape)\n",
    "observations = observations.squeeze()\n",
    "\n",
    "vector_size    = 19 \n",
    "whisker_size   = 26 + 6 # 6 represents the rotation observation which is included in depth_map component but can be ignored.\n",
    "depth_size     = 55 - 6\n",
    "occupancy_size = 405\n",
    "\n",
    "vector_end    = vector_size\n",
    "whisker_end   = vector_end  + whisker_size\n",
    "depth_end     = whisker_end + depth_size\n",
    "occupancy_end = depth_end   + occupancy_size"
   ]
  },
  {
   "cell_type": "code",
   "execution_count": 6,
   "metadata": {
    "scrolled": true
   },
   "outputs": [
    {
     "name": "stdout",
     "output_type": "stream",
     "text": [
      "505\n"
     ]
    }
   ],
   "source": [
    "vec_obs       = observations[:, 0:vector_end]\n",
    "whisker_obs   = observations[:, vector_end :whisker_end]\n",
    "depth_obs     = observations[:, whisker_end:depth_end]\n",
    "occupancy_obs = observations[:, depth_end  :occupancy_end]\n",
    "\n",
    "assert vec_obs.shape[1]+ whisker_obs.shape[1]+ depth_obs.shape[1] + occupancy_obs.shape[1] == 505 \n",
    "print(vec_obs.shape[1]+ whisker_obs.shape[1]+ depth_obs.shape[1] + occupancy_obs.shape[1])"
   ]
  },
  {
   "cell_type": "markdown",
   "metadata": {},
   "source": [
    "## Depthmask"
   ]
  },
  {
   "cell_type": "markdown",
   "metadata": {},
   "source": [
    "![The Point the data is gathered](tmp/Depthmask.png \"The observation\")\n",
    "\n",
    "#### The ground is not shown. Raycasts ignore the collider if they are spawned from the inside of it."
   ]
  },
  {
   "cell_type": "code",
   "execution_count": 7,
   "metadata": {},
   "outputs": [
    {
     "data": {
      "text/plain": [
       "(10000, 49)"
      ]
     },
     "execution_count": 7,
     "metadata": {},
     "output_type": "execute_result"
    }
   ],
   "source": [
    "depth_obs.shape"
   ]
  },
  {
   "cell_type": "code",
   "execution_count": 8,
   "metadata": {},
   "outputs": [
    {
     "name": "stdout",
     "output_type": "stream",
     "text": [
      "[0.        0.        0.        0.        0.        0.9295996 0.4421997\n",
      " 0.        0.        0.        0.        0.        0.9295996 0.4421997\n",
      " 0.        0.        0.        0.        0.        0.9295996 0.4421997\n",
      " 0.        0.        0.        0.        0.        0.9295996 0.4421997\n",
      " 0.        0.        0.        0.        0.        0.9295996 0.4421997\n",
      " 0.        0.        0.        0.        0.        0.9295996 0.4421997\n",
      " 0.        0.        0.        0.        0.        0.9295996 0.4421997]\n"
     ]
    }
   ],
   "source": [
    "print(depth_obs[0])"
   ]
  },
  {
   "cell_type": "code",
   "execution_count": 9,
   "metadata": {},
   "outputs": [
    {
     "data": {
      "text/plain": [
       "(10000, 7, 7)"
      ]
     },
     "execution_count": 9,
     "metadata": {},
     "output_type": "execute_result"
    }
   ],
   "source": [
    "depth_obs.shape\n",
    "depth_obs_2d = depth_obs.reshape(-1, 7, 7)  ### Occupancy Grid\n",
    "depth_obs_2d.shape"
   ]
  },
  {
   "cell_type": "code",
   "execution_count": 10,
   "metadata": {
    "scrolled": true
   },
   "outputs": [
    {
     "data": {
      "text/plain": [
       "<matplotlib.image.AxesImage at 0x1ad25e1d2c8>"
      ]
     },
     "execution_count": 10,
     "metadata": {},
     "output_type": "execute_result"
    },
    {
     "data": {
      "image/png": "[encoded data removed]",
      "text/plain": [
       "<Figure size 432x288 with 1 Axes>"
      ]
     },
     "metadata": {
      "needs_background": "light"
     },
     "output_type": "display_data"
    }
   ],
   "source": [
    "imshow(depth_obs_2d[100])"
   ]
  },
  {
   "cell_type": "code",
   "execution_count": 11,
   "metadata": {},
   "outputs": [
    {
     "data": {
      "text/plain": [
       "<matplotlib.image.AxesImage at 0x1ad26fbdfc8>"
      ]
     },
     "execution_count": 11,
     "metadata": {},
     "output_type": "execute_result"
    },
    {
     "data": {
      "image/png": "[encoded data removed]",
      "text/plain": [
       "<Figure size 432x288 with 1 Axes>"
      ]
     },
     "metadata": {
      "needs_background": "light"
     },
     "output_type": "display_data"
    }
   ],
   "source": [
    "imshow(depth_obs_2d[100].T)"
   ]
  },
  {
   "cell_type": "markdown",
   "metadata": {},
   "source": [
    "## Occupancy Grid"
   ]
  },
  {
   "cell_type": "markdown",
   "metadata": {},
   "source": [
    "![The Point the data is gathered](tmp/Occupancy.png \"The observation\")\n",
    "\n",
    "## (9, 5, 9) - (x,y,z) box size"
   ]
  },
  {
   "cell_type": "code",
   "execution_count": 12,
   "metadata": {},
   "outputs": [],
   "source": [
    "occupancy_obs.shape\n",
    "occupancy_obs_3d = occupancy_obs.reshape(-1, 9, 5, 9)\n",
    "occupancy_obs_3d_plt = np.swapaxes(occupancy_obs_3d, -1, -2)"
   ]
  },
  {
   "cell_type": "code",
   "execution_count": 13,
   "metadata": {},
   "outputs": [
    {
     "name": "stdout",
     "output_type": "stream",
     "text": [
      "74\n"
     ]
    }
   ],
   "source": [
    "idx = random.randint(0,512)\n",
    "print(idx)"
   ]
  },
  {
   "cell_type": "code",
   "execution_count": 14,
   "metadata": {},
   "outputs": [
    {
     "data": {
      "image/png": "[encoded data removed]",
      "text/plain": [
       "<Figure size 432x288 with 1 Axes>"
      ]
     },
     "metadata": {
      "needs_background": "light"
     },
     "output_type": "display_data"
    }
   ],
   "source": [
    "ax = plt.figure().add_subplot(projection='3d')\n",
    "_ = ax.voxels(occupancy_obs_3d_plt[idx-1])"
   ]
  },
  {
   "cell_type": "code",
   "execution_count": 15,
   "metadata": {},
   "outputs": [
    {
     "data": {
      "image/png": "[encoded data removed]",
      "text/plain": [
       "<Figure size 432x288 with 1 Axes>"
      ]
     },
     "metadata": {
      "needs_background": "light"
     },
     "output_type": "display_data"
    }
   ],
   "source": [
    "occupancy_obs.shape\n",
    "occupancy_obs_3d = occupancy_obs.reshape(-1, 9, 5, 9)\n",
    "occupancy_obs_3d_swapped_plt = np.swapaxes(occupancy_obs_3d, -2, -3)\n",
    "\n",
    "ax = plt.figure().add_subplot(projection='3d')\n",
    "_ = ax.voxels(occupancy_obs_3d_swapped_plt[idx-1])"
   ]
  },
  {
   "cell_type": "markdown",
   "metadata": {},
   "source": [
    "### Preprocessing input"
   ]
  },
  {
   "cell_type": "code",
   "execution_count": 16,
   "metadata": {},
   "outputs": [],
   "source": [
    "batch_size = 512\n",
    "input_tensor = th.tensor(observations[:batch_size]).cuda()\n",
    "action_dim = 3\n",
    "\n",
    "depthmap_side_size = 7\n",
    "occupancy_grid_shape = (9,5,9) \n",
    "\n",
    "is_critic = False # When the network is the critic the actions are appended to the end of the input. policies.py 847"
   ]
  },
  {
   "cell_type": "code",
   "execution_count": 17,
   "metadata": {},
   "outputs": [
    {
     "data": {
      "text/plain": [
       "19"
      ]
     },
     "execution_count": 17,
     "metadata": {},
     "output_type": "execute_result"
    }
   ],
   "source": [
    "depth_obs.shape\n",
    "vector_end"
   ]
  },
  {
   "cell_type": "code",
   "execution_count": 18,
   "metadata": {},
   "outputs": [],
   "source": [
    "# This is done at every forward.\n",
    "if is_critic:\n",
    "    original_vector = input_tensor[:, :whisker_end]\n",
    "    actions_in_critic = input_tensor[:, -action_dim:]\n",
    "    vector_obs = th.cat((original_vector, actions_in_critic),dim=1)\n",
    "else:\n",
    "    vector_obs = input_tensor[:, :whisker_end].cuda()\n",
    "\n",
    "depth_obs     = input_tensor[:, whisker_end: depth_end]\n",
    "occupancy_obs = input_tensor[:, depth_end: occupancy_end]\n",
    "\n",
    "depth_obs2d = depth_obs.reshape(-1, 1, depthmap_side_size, depthmap_side_size)\n",
    "occupancy_obs3d = occupancy_obs.reshape(-1, 1, *occupancy_grid_shape)"
   ]
  },
  {
   "cell_type": "code",
   "execution_count": 19,
   "metadata": {},
   "outputs": [],
   "source": [
    "assert depth_obs.shape[1] == 49\n",
    "assert occupancy_obs.shape[1] == 405\n"
   ]
  },
  {
   "cell_type": "code",
   "execution_count": 20,
   "metadata": {},
   "outputs": [
    {
     "name": "stdout",
     "output_type": "stream",
     "text": [
      "torch.Size([512, 51])\n",
      "torch.Size([512, 1, 7, 7])\n",
      "torch.Size([512, 1, 9, 5, 9])\n"
     ]
    }
   ],
   "source": [
    "print(vector_obs.shape)\n",
    "print(depth_obs2d.shape)\n",
    "print(occupancy_obs3d.shape)\n",
    "\n",
    "assert 505 == vector_obs.shape[-1] + \\\n",
    "              depth_obs2d.shape[-2] * depth_obs2d.shape[-1] + \\\n",
    "              occupancy_obs3d.shape[-3] * occupancy_obs3d.shape[-2] * occupancy_obs3d.shape[-1]"
   ]
  },
  {
   "cell_type": "markdown",
   "metadata": {},
   "source": [
    "### Depthmap Layers"
   ]
  },
  {
   "cell_type": "code",
   "execution_count": 21,
   "metadata": {},
   "outputs": [
    {
     "data": {
      "text/plain": [
       "torch.Size([512, 1, 7, 7])"
      ]
     },
     "execution_count": 21,
     "metadata": {},
     "output_type": "execute_result"
    }
   ],
   "source": [
    "depth_obs2d.shape"
   ]
  },
  {
   "cell_type": "code",
   "execution_count": 22,
   "metadata": {},
   "outputs": [],
   "source": [
    "class MyGlobal2DMaxPoolLayer(nn.Module): #Is this the correct name?\n",
    "    def __init__(self):\n",
    "        super().__init__()\n",
    "\n",
    "    def forward(self, x):\n",
    "        return th.mean(x, dim =(-2,-1))"
   ]
  },
  {
   "cell_type": "code",
   "execution_count": 23,
   "metadata": {},
   "outputs": [
    {
     "name": "stdout",
     "output_type": "stream",
     "text": [
      "----------------------------------------------------------------\n",
      "        Layer (type)               Output Shape         Param #\n",
      "================================================================\n",
      "            Conv2d-1             [-1, 64, 9, 9]             640\n",
      "              ReLU-2             [-1, 64, 9, 9]               0\n",
      "            Conv2d-3           [-1, 64, 11, 11]          36,928\n",
      "              ReLU-4           [-1, 64, 11, 11]               0\n",
      "MyGlobal2DMaxPoolLayer-5                   [-1, 64]               0\n",
      "================================================================\n",
      "Total params: 37,568\n",
      "Trainable params: 37,568\n",
      "Non-trainable params: 0\n",
      "----------------------------------------------------------------\n",
      "Input size (MB): 0.00\n",
      "Forward/backward pass size (MB): 0.20\n",
      "Params size (MB): 0.14\n",
      "Estimated Total Size (MB): 0.34\n",
      "----------------------------------------------------------------\n"
     ]
    }
   ],
   "source": [
    "def create_depthmap_layers(): \n",
    "    conv2d_size = 64\n",
    "    depthmap_layers = nn.Sequential(\n",
    "        nn.Conv2d(in_channels=1, out_channels=conv2d_size, kernel_size=3, padding=2, stride=1), nn.ReLU(),\n",
    "        nn.Conv2d(conv2d_size,   out_channels=conv2d_size, kernel_size=3, padding=2, stride=1), nn.ReLU(),\n",
    "        MyGlobal2DMaxPoolLayer(),\n",
    "    ) \n",
    "    return depthmap_layers\n",
    "\n",
    "depthmap_layers = create_depthmap_layers()\n",
    "depthmap_layers.cuda()\n",
    "\n",
    "depthmap_layers_output_shape = depthmap_layers(depth_obs2d).shape[-1]\n",
    "summary(depthmap_layers, depth_obs2d.shape[1:])"
   ]
  },
  {
   "cell_type": "markdown",
   "metadata": {},
   "source": [
    "### Occupancy Layers"
   ]
  },
  {
   "cell_type": "code",
   "execution_count": 24,
   "metadata": {},
   "outputs": [],
   "source": [
    "class MyGlobal3DMaxPoolLayer(nn.Module): #Is this the correct name?\n",
    "    def __init__(self):\n",
    "        super().__init__()\n",
    "\n",
    "    def forward(self, x):\n",
    "        return th.mean(x, dim=(-3, -2,-1))"
   ]
  },
  {
   "cell_type": "code",
   "execution_count": 25,
   "metadata": {},
   "outputs": [
    {
     "name": "stdout",
     "output_type": "stream",
     "text": [
      "----------------------------------------------------------------\n",
      "        Layer (type)               Output Shape         Param #\n",
      "================================================================\n",
      "            Conv3d-1        [-1, 32, 11, 7, 11]             896\n",
      "              ReLU-2        [-1, 32, 11, 7, 11]               0\n",
      "            Conv3d-3        [-1, 32, 13, 9, 13]          27,680\n",
      "              ReLU-4        [-1, 32, 13, 9, 13]               0\n",
      "MyGlobal3DMaxPoolLayer-5                   [-1, 32]               0\n",
      "================================================================\n",
      "Total params: 28,576\n",
      "Trainable params: 28,576\n",
      "Non-trainable params: 0\n",
      "----------------------------------------------------------------\n",
      "Input size (MB): 0.00\n",
      "Forward/backward pass size (MB): 1.16\n",
      "Params size (MB): 0.11\n",
      "Estimated Total Size (MB): 1.27\n",
      "----------------------------------------------------------------\n"
     ]
    }
   ],
   "source": [
    "def create_occupancy_layers():\n",
    "    conv3d_size = 32\n",
    "    occupancy_layers = nn.Sequential(\n",
    "        nn.Conv3d(in_channels=1, out_channels=conv3d_size, kernel_size=3, padding=2, stride=1), nn.ReLU(),\n",
    "        nn.Conv3d(conv3d_size,   out_channels=conv3d_size, kernel_size=3, padding=2, stride=1), nn.ReLU(),\n",
    "        MyGlobal3DMaxPoolLayer()\n",
    "    )\n",
    "    return occupancy_layers\n",
    "\n",
    "occupancy_layers = create_occupancy_layers()\n",
    "occupancy_layers.cuda()\n",
    "occupancy_layers_output_shape = occupancy_layers(occupancy_obs3d.cuda()).shape[-1]\n",
    "\n",
    "summary(occupancy_layers, occupancy_obs3d.shape[1:])"
   ]
  },
  {
   "cell_type": "code",
   "execution_count": null,
   "metadata": {},
   "outputs": [],
   "source": []
  },
  {
   "cell_type": "code",
   "execution_count": 26,
   "metadata": {},
   "outputs": [
    {
     "name": "stdout",
     "output_type": "stream",
     "text": [
      "----------------------------------------------------------------\n",
      "        Layer (type)               Output Shape         Param #\n",
      "================================================================\n",
      "            Conv2d-1           [-1, 64, 11, 11]           2,944\n",
      "              ReLU-2           [-1, 64, 11, 11]               0\n",
      "            Conv2d-3           [-1, 64, 13, 13]          36,928\n",
      "              ReLU-4           [-1, 64, 13, 13]               0\n",
      "MyGlobal2DMaxPoolLayer-5                   [-1, 64]               0\n",
      "================================================================\n",
      "Total params: 39,872\n",
      "Trainable params: 39,872\n",
      "Non-trainable params: 0\n",
      "----------------------------------------------------------------\n",
      "Input size (MB): 0.00\n",
      "Forward/backward pass size (MB): 0.28\n",
      "Params size (MB): 0.15\n",
      "Estimated Total Size (MB): 0.44\n",
      "----------------------------------------------------------------\n"
     ]
    }
   ],
   "source": [
    "def create_occupancy2D_layers():\n",
    "    conv3d_size = 64\n",
    "    occupancy_layers = nn.Sequential(\n",
    "        nn.Conv2d(in_channels=5, out_channels=conv3d_size, kernel_size=3, padding=2, stride=1), nn.ReLU(),\n",
    "        nn.Conv2d(conv3d_size,   out_channels=conv3d_size, kernel_size=3, padding=2, stride=1), nn.ReLU(),\n",
    "        MyGlobal2DMaxPoolLayer()\n",
    "    )\n",
    "    return occupancy_layers\n",
    "\n",
    "occupancy_layers = create_occupancy2D_layers()\n",
    "occupancy_layers.cuda()\n",
    "\n",
    "occupancy_obs2d = np.squeeze(np.swapaxes(occupancy_obs3d, -2, -3))\n",
    "occupancy_layers_output_shape = occupancy_layers(occupancy_obs2d.cuda()).shape[-1]\n",
    "\n",
    "summary(occupancy_layers, occupancy_obs2d.shape[1:])"
   ]
  },
  {
   "cell_type": "markdown",
   "metadata": {},
   "source": [
    "### Vector Layers"
   ]
  },
  {
   "cell_type": "code",
   "execution_count": 27,
   "metadata": {},
   "outputs": [
    {
     "data": {
      "text/plain": [
       "Sequential(\n",
       "  (0): Linear(in_features=51, out_features=512, bias=True)\n",
       "  (1): ReLU()\n",
       "  (2): Linear(in_features=512, out_features=512, bias=True)\n",
       ")"
      ]
     },
     "execution_count": 27,
     "metadata": {},
     "output_type": "execute_result"
    }
   ],
   "source": [
    "def create_vector_layers():\n",
    "    hidden_dim = 512\n",
    "    vector_layers = nn.Sequential(\n",
    "        nn.Linear(vector_obs.shape[-1], hidden_dim), nn.ReLU(),\n",
    "        nn.Linear(hidden_dim, hidden_dim), \n",
    "    )\n",
    "    return vector_layers\n",
    "\n",
    "vector_layers = create_vector_layers()\n",
    "vector_layers.cuda()"
   ]
  },
  {
   "cell_type": "markdown",
   "metadata": {},
   "source": [
    "### Combine Layers"
   ]
  },
  {
   "cell_type": "code",
   "execution_count": 28,
   "metadata": {},
   "outputs": [
    {
     "data": {
      "text/plain": [
       "Sequential(\n",
       "  (0): Linear(in_features=640, out_features=512, bias=True)\n",
       "  (1): ReLU()\n",
       "  (2): Linear(in_features=512, out_features=512, bias=True)\n",
       "  (3): ReLU()\n",
       ")"
      ]
     },
     "execution_count": 28,
     "metadata": {},
     "output_type": "execute_result"
    }
   ],
   "source": [
    "hidden_dim = 512\n",
    "combo_model = nn.Sequential(\n",
    "    nn.Linear(hidden_dim + occupancy_layers_output_shape + depthmap_layers_output_shape, hidden_dim), nn.ReLU(),\n",
    "    nn.Linear(hidden_dim, hidden_dim), nn.ReLU(),\n",
    ")\n",
    "combo_model.cuda()"
   ]
  },
  {
   "cell_type": "code",
   "execution_count": 29,
   "metadata": {},
   "outputs": [
    {
     "ename": "RuntimeError",
     "evalue": "Expected 4-dimensional input for 4-dimensional weight [64, 5, 3, 3], but got 5-dimensional input of size [512, 1, 9, 5, 9] instead",
     "output_type": "error",
     "traceback": [
      "\u001b[1;31m---------------------------------------------------------------------------\u001b[0m",
      "\u001b[1;31mRuntimeError\u001b[0m                              Traceback (most recent call last)",
      "\u001b[1;32m~\\AppData\\Local\\Temp/ipykernel_24472/3849417892.py\u001b[0m in \u001b[0;36m<module>\u001b[1;34m\u001b[0m\n\u001b[0;32m      1\u001b[0m \u001b[0mdepth_output\u001b[0m     \u001b[1;33m=\u001b[0m \u001b[0mth\u001b[0m\u001b[1;33m.\u001b[0m\u001b[0msqueeze\u001b[0m\u001b[1;33m(\u001b[0m\u001b[0mdepthmap_layers\u001b[0m\u001b[1;33m(\u001b[0m\u001b[0mdepth_obs2d\u001b[0m\u001b[1;33m.\u001b[0m\u001b[0mcuda\u001b[0m\u001b[1;33m(\u001b[0m\u001b[1;33m)\u001b[0m\u001b[1;33m)\u001b[0m\u001b[1;33m)\u001b[0m\u001b[1;33m\u001b[0m\u001b[1;33m\u001b[0m\u001b[0m\n\u001b[1;32m----> 2\u001b[1;33m \u001b[0moccupancy_output\u001b[0m \u001b[1;33m=\u001b[0m \u001b[0mth\u001b[0m\u001b[1;33m.\u001b[0m\u001b[0msqueeze\u001b[0m\u001b[1;33m(\u001b[0m\u001b[0moccupancy_layers\u001b[0m\u001b[1;33m(\u001b[0m\u001b[0moccupancy_obs3d\u001b[0m\u001b[1;33m.\u001b[0m\u001b[0mcuda\u001b[0m\u001b[1;33m(\u001b[0m\u001b[1;33m)\u001b[0m\u001b[1;33m)\u001b[0m\u001b[1;33m)\u001b[0m\u001b[1;33m\u001b[0m\u001b[1;33m\u001b[0m\u001b[0m\n\u001b[0m\u001b[0;32m      3\u001b[0m \u001b[0mvector_output\u001b[0m    \u001b[1;33m=\u001b[0m \u001b[0mth\u001b[0m\u001b[1;33m.\u001b[0m\u001b[0msqueeze\u001b[0m\u001b[1;33m(\u001b[0m\u001b[0mvector_layers\u001b[0m\u001b[1;33m(\u001b[0m\u001b[0mvector_obs\u001b[0m\u001b[1;33m.\u001b[0m\u001b[0mcuda\u001b[0m\u001b[1;33m(\u001b[0m\u001b[1;33m)\u001b[0m\u001b[1;33m)\u001b[0m\u001b[1;33m)\u001b[0m\u001b[1;33m\u001b[0m\u001b[1;33m\u001b[0m\u001b[0m\n\u001b[0;32m      4\u001b[0m \u001b[1;33m\u001b[0m\u001b[0m\n\u001b[0;32m      5\u001b[0m \u001b[1;31m# Get the combination and pass it through the last linear layers.\u001b[0m\u001b[1;33m\u001b[0m\u001b[1;33m\u001b[0m\u001b[1;33m\u001b[0m\u001b[0m\n",
      "\u001b[1;32m~\\anaconda3\\envs\\rlnav\\lib\\site-packages\\torch\\nn\\modules\\module.py\u001b[0m in \u001b[0;36m_call_impl\u001b[1;34m(self, *input, **kwargs)\u001b[0m\n\u001b[0;32m   1049\u001b[0m         if not (self._backward_hooks or self._forward_hooks or self._forward_pre_hooks or _global_backward_hooks\n\u001b[0;32m   1050\u001b[0m                 or _global_forward_hooks or _global_forward_pre_hooks):\n\u001b[1;32m-> 1051\u001b[1;33m             \u001b[1;32mreturn\u001b[0m \u001b[0mforward_call\u001b[0m\u001b[1;33m(\u001b[0m\u001b[1;33m*\u001b[0m\u001b[0minput\u001b[0m\u001b[1;33m,\u001b[0m \u001b[1;33m**\u001b[0m\u001b[0mkwargs\u001b[0m\u001b[1;33m)\u001b[0m\u001b[1;33m\u001b[0m\u001b[1;33m\u001b[0m\u001b[0m\n\u001b[0m\u001b[0;32m   1052\u001b[0m         \u001b[1;31m# Do not call functions when jit is used\u001b[0m\u001b[1;33m\u001b[0m\u001b[1;33m\u001b[0m\u001b[1;33m\u001b[0m\u001b[0m\n\u001b[0;32m   1053\u001b[0m         \u001b[0mfull_backward_hooks\u001b[0m\u001b[1;33m,\u001b[0m \u001b[0mnon_full_backward_hooks\u001b[0m \u001b[1;33m=\u001b[0m \u001b[1;33m[\u001b[0m\u001b[1;33m]\u001b[0m\u001b[1;33m,\u001b[0m \u001b[1;33m[\u001b[0m\u001b[1;33m]\u001b[0m\u001b[1;33m\u001b[0m\u001b[1;33m\u001b[0m\u001b[0m\n",
      "\u001b[1;32m~\\anaconda3\\envs\\rlnav\\lib\\site-packages\\torch\\nn\\modules\\container.py\u001b[0m in \u001b[0;36mforward\u001b[1;34m(self, input)\u001b[0m\n\u001b[0;32m    137\u001b[0m     \u001b[1;32mdef\u001b[0m \u001b[0mforward\u001b[0m\u001b[1;33m(\u001b[0m\u001b[0mself\u001b[0m\u001b[1;33m,\u001b[0m \u001b[0minput\u001b[0m\u001b[1;33m)\u001b[0m\u001b[1;33m:\u001b[0m\u001b[1;33m\u001b[0m\u001b[1;33m\u001b[0m\u001b[0m\n\u001b[0;32m    138\u001b[0m         \u001b[1;32mfor\u001b[0m \u001b[0mmodule\u001b[0m \u001b[1;32min\u001b[0m \u001b[0mself\u001b[0m\u001b[1;33m:\u001b[0m\u001b[1;33m\u001b[0m\u001b[1;33m\u001b[0m\u001b[0m\n\u001b[1;32m--> 139\u001b[1;33m             \u001b[0minput\u001b[0m \u001b[1;33m=\u001b[0m \u001b[0mmodule\u001b[0m\u001b[1;33m(\u001b[0m\u001b[0minput\u001b[0m\u001b[1;33m)\u001b[0m\u001b[1;33m\u001b[0m\u001b[1;33m\u001b[0m\u001b[0m\n\u001b[0m\u001b[0;32m    140\u001b[0m         \u001b[1;32mreturn\u001b[0m \u001b[0minput\u001b[0m\u001b[1;33m\u001b[0m\u001b[1;33m\u001b[0m\u001b[0m\n\u001b[0;32m    141\u001b[0m \u001b[1;33m\u001b[0m\u001b[0m\n",
      "\u001b[1;32m~\\anaconda3\\envs\\rlnav\\lib\\site-packages\\torch\\nn\\modules\\module.py\u001b[0m in \u001b[0;36m_call_impl\u001b[1;34m(self, *input, **kwargs)\u001b[0m\n\u001b[0;32m   1049\u001b[0m         if not (self._backward_hooks or self._forward_hooks or self._forward_pre_hooks or _global_backward_hooks\n\u001b[0;32m   1050\u001b[0m                 or _global_forward_hooks or _global_forward_pre_hooks):\n\u001b[1;32m-> 1051\u001b[1;33m             \u001b[1;32mreturn\u001b[0m \u001b[0mforward_call\u001b[0m\u001b[1;33m(\u001b[0m\u001b[1;33m*\u001b[0m\u001b[0minput\u001b[0m\u001b[1;33m,\u001b[0m \u001b[1;33m**\u001b[0m\u001b[0mkwargs\u001b[0m\u001b[1;33m)\u001b[0m\u001b[1;33m\u001b[0m\u001b[1;33m\u001b[0m\u001b[0m\n\u001b[0m\u001b[0;32m   1052\u001b[0m         \u001b[1;31m# Do not call functions when jit is used\u001b[0m\u001b[1;33m\u001b[0m\u001b[1;33m\u001b[0m\u001b[1;33m\u001b[0m\u001b[0m\n\u001b[0;32m   1053\u001b[0m         \u001b[0mfull_backward_hooks\u001b[0m\u001b[1;33m,\u001b[0m \u001b[0mnon_full_backward_hooks\u001b[0m \u001b[1;33m=\u001b[0m \u001b[1;33m[\u001b[0m\u001b[1;33m]\u001b[0m\u001b[1;33m,\u001b[0m \u001b[1;33m[\u001b[0m\u001b[1;33m]\u001b[0m\u001b[1;33m\u001b[0m\u001b[1;33m\u001b[0m\u001b[0m\n",
      "\u001b[1;32m~\\anaconda3\\envs\\rlnav\\lib\\site-packages\\torch\\nn\\modules\\conv.py\u001b[0m in \u001b[0;36mforward\u001b[1;34m(self, input)\u001b[0m\n\u001b[0;32m    441\u001b[0m \u001b[1;33m\u001b[0m\u001b[0m\n\u001b[0;32m    442\u001b[0m     \u001b[1;32mdef\u001b[0m \u001b[0mforward\u001b[0m\u001b[1;33m(\u001b[0m\u001b[0mself\u001b[0m\u001b[1;33m,\u001b[0m \u001b[0minput\u001b[0m\u001b[1;33m:\u001b[0m \u001b[0mTensor\u001b[0m\u001b[1;33m)\u001b[0m \u001b[1;33m->\u001b[0m \u001b[0mTensor\u001b[0m\u001b[1;33m:\u001b[0m\u001b[1;33m\u001b[0m\u001b[1;33m\u001b[0m\u001b[0m\n\u001b[1;32m--> 443\u001b[1;33m         \u001b[1;32mreturn\u001b[0m \u001b[0mself\u001b[0m\u001b[1;33m.\u001b[0m\u001b[0m_conv_forward\u001b[0m\u001b[1;33m(\u001b[0m\u001b[0minput\u001b[0m\u001b[1;33m,\u001b[0m \u001b[0mself\u001b[0m\u001b[1;33m.\u001b[0m\u001b[0mweight\u001b[0m\u001b[1;33m,\u001b[0m \u001b[0mself\u001b[0m\u001b[1;33m.\u001b[0m\u001b[0mbias\u001b[0m\u001b[1;33m)\u001b[0m\u001b[1;33m\u001b[0m\u001b[1;33m\u001b[0m\u001b[0m\n\u001b[0m\u001b[0;32m    444\u001b[0m \u001b[1;33m\u001b[0m\u001b[0m\n\u001b[0;32m    445\u001b[0m \u001b[1;32mclass\u001b[0m \u001b[0mConv3d\u001b[0m\u001b[1;33m(\u001b[0m\u001b[0m_ConvNd\u001b[0m\u001b[1;33m)\u001b[0m\u001b[1;33m:\u001b[0m\u001b[1;33m\u001b[0m\u001b[1;33m\u001b[0m\u001b[0m\n",
      "\u001b[1;32m~\\anaconda3\\envs\\rlnav\\lib\\site-packages\\torch\\nn\\modules\\conv.py\u001b[0m in \u001b[0;36m_conv_forward\u001b[1;34m(self, input, weight, bias)\u001b[0m\n\u001b[0;32m    438\u001b[0m                             _pair(0), self.dilation, self.groups)\n\u001b[0;32m    439\u001b[0m         return F.conv2d(input, weight, bias, self.stride,\n\u001b[1;32m--> 440\u001b[1;33m                         self.padding, self.dilation, self.groups)\n\u001b[0m\u001b[0;32m    441\u001b[0m \u001b[1;33m\u001b[0m\u001b[0m\n\u001b[0;32m    442\u001b[0m     \u001b[1;32mdef\u001b[0m \u001b[0mforward\u001b[0m\u001b[1;33m(\u001b[0m\u001b[0mself\u001b[0m\u001b[1;33m,\u001b[0m \u001b[0minput\u001b[0m\u001b[1;33m:\u001b[0m \u001b[0mTensor\u001b[0m\u001b[1;33m)\u001b[0m \u001b[1;33m->\u001b[0m \u001b[0mTensor\u001b[0m\u001b[1;33m:\u001b[0m\u001b[1;33m\u001b[0m\u001b[1;33m\u001b[0m\u001b[0m\n",
      "\u001b[1;31mRuntimeError\u001b[0m: Expected 4-dimensional input for 4-dimensional weight [64, 5, 3, 3], but got 5-dimensional input of size [512, 1, 9, 5, 9] instead"
     ]
    }
   ],
   "source": [
    "depth_output     = th.squeeze(depthmap_layers(depth_obs2d.cuda()))\n",
    "occupancy_output = th.squeeze(occupancy_layers(occupancy_obs3d.cuda()))\n",
    "vector_output    = th.squeeze(vector_layers(vector_obs.cuda()))\n",
    "\n",
    "# Get the combination and pass it through the last linear layers.\n",
    "combined_input = th.cat((vector_output, occupancy_output, depth_output), dim=1)\n",
    "output = combo_model(combined_input)"
   ]
  },
  {
   "cell_type": "markdown",
   "metadata": {},
   "source": [
    "### Full Network"
   ]
  },
  {
   "cell_type": "code",
   "execution_count": null,
   "metadata": {},
   "outputs": [],
   "source": [
    "class RLCustomNetwork(nn.Module):\n",
    "    def __init__(self):\n",
    "        super(RLCustomNetwork, self).__init__()\n",
    "        self.create_model()\n",
    "    \n",
    "    def create_model(self):\n",
    "        conv2d_size = 32\n",
    "        conv3d_size = 32\n",
    "        hidden_dim = 512\n",
    "        \n",
    "        self.depthmap_layers = create_depthmap_layers().cuda()\n",
    "        \n",
    "        self.occupancy_layers= create_occupancy_layers().cuda()\n",
    "        \n",
    "        self.vector_layers = create_vector_layers().cuda()\n",
    "        \n",
    "        self.combo_model = nn.Sequential(\n",
    "            nn.Linear(hidden_dim + occupancy_layers_output_shape + depthmap_layers_output_shape, hidden_dim), nn.ReLU(),\n",
    "        ).cuda()\n",
    "        \n",
    "       \n",
    "    def forward(self, input_tensor):\n",
    "        if is_critic:\n",
    "            original_vector = input_tensor[:, :whisker_end]\n",
    "            actions_in_critic = input_tensor[:, -action_dim:]\n",
    "            vector_obs = th.cat((original_vector, actions_in_critic),dim=1).cuda()\n",
    "        else:\n",
    "            vector_obs = input_tensor[:, :whisker_end].cuda() # Vectorend includes whiskers\n",
    "\n",
    "        depth_obs     = input_tensor[:, whisker_end: depth_end]\n",
    "        occupancy_obs = input_tensor[:, depth_end: occupancy_end]\n",
    "\n",
    "        depth_obs2d = depth_obs.reshape(-1, 1, depthmap_side_size, depthmap_side_size) # 1 is the filter size\n",
    "        occupancy_obs3d = occupancy_obs.reshape(-1, 1, *occupancy_grid_shape)\n",
    "        \n",
    "        depth_output     = th.squeeze(self.depthmap_layers(depth_obs.reshape(-1, 1, depthmap_side_size, depthmap_side_size)))\n",
    "        occupancy_output = th.squeeze(self.occupancy_layers(occupancy_obs.reshape(-1, 1, *occupancy_grid_shape)))\n",
    "        vector_output    = self.vector_layers(vector_obs)\n",
    "        \n",
    "        combined_input = th.cat((vector_output, occupancy_output, depth_output), dim=1)\n",
    "        output = self.combo_model(combined_input)\n",
    "        \n",
    "        return output"
   ]
  },
  {
   "cell_type": "code",
   "execution_count": null,
   "metadata": {},
   "outputs": [],
   "source": [
    "net = RLCustomNetwork()\n",
    "net(input_tensor).shape"
   ]
  },
  {
   "cell_type": "code",
   "execution_count": null,
   "metadata": {},
   "outputs": [],
   "source": [
    "summary(net, input_tensor.shape[1:])"
   ]
  },
  {
   "cell_type": "markdown",
   "metadata": {},
   "source": [
    "# PROFILING"
   ]
  },
  {
   "cell_type": "code",
   "execution_count": null,
   "metadata": {},
   "outputs": [],
   "source": [
    "# Default network trace profiler: https://wandb.ai/batu/Urban/artifacts/profile/trace-z1crfyl9/dea233bef8b2339f4b0e/files/trace.pt.trace.json\n",
    "# Custom network: https://wandb.ai/batu/Urban/artifacts/profile/trace-1mxyn7xs/1c4f8c37348d7efb23d8/files/trace.pt.trace.json"
   ]
  },
  {
   "cell_type": "code",
   "execution_count": null,
   "metadata": {},
   "outputs": [],
   "source": [
    "import pstats\n",
    "from pstats import SortKey"
   ]
  },
  {
   "cell_type": "code",
   "execution_count": null,
   "metadata": {},
   "outputs": [],
   "source": [
    "# #   net_arch: \n",
    "# #     pi: \n",
    "# #       - 512\n",
    "# #       - 512\n",
    "# #     qf:\n",
    "# #       - 1024\n",
    "# #       - 1024\n",
    "# #       - 1024\n",
    "# # trainable params: 11m\n",
    "# # mlp_mini \n",
    "\n",
    "# mlp = pstats.Stats('profiling/mlp.file')\n",
    "# mlp.sort_stats(\"tottime\").print_stats(10)"
   ]
  },
  {
   "cell_type": "code",
   "execution_count": null,
   "metadata": {},
   "outputs": [],
   "source": [
    "# trainable params: 1176679\n",
    "# Custom built network \n",
    "\n",
    "mlp = pstats.Stats('profiling/mlp.file')\n",
    "mlp.sort_stats(\"tottime\").print_stats(50)"
   ]
  },
  {
   "cell_type": "markdown",
   "metadata": {},
   "source": [
    "# MLP"
   ]
  },
  {
   "cell_type": "code",
   "execution_count": null,
   "metadata": {},
   "outputs": [],
   "source": []
  },
  {
   "cell_type": "code",
   "execution_count": null,
   "metadata": {},
   "outputs": [],
   "source": [
    " 296.3 - 205 "
   ]
  },
  {
   "cell_type": "code",
   "execution_count": null,
   "metadata": {},
   "outputs": [],
   "source": [
    "572 - 221"
   ]
  },
  {
   "cell_type": "code",
   "execution_count": null,
   "metadata": {},
   "outputs": [],
   "source": [
    "25000 / 64 * 256"
   ]
  },
  {
   "cell_type": "code",
   "execution_count": null,
   "metadata": {},
   "outputs": [],
   "source": [
    "# trainable params: 6076679\n",
    "# Custom built network \n",
    "\n",
    "custom_default = pstats.Stats('profiling/custom_default.file')\n",
    "custom_default.sort_stats(\"tottime\").print_stats(10)"
   ]
  },
  {
   "cell_type": "markdown",
   "metadata": {},
   "source": [
    "# CONV2d / CONV3d"
   ]
  },
  {
   "cell_type": "code",
   "execution_count": 39,
   "metadata": {},
   "outputs": [
    {
     "name": "stdout",
     "output_type": "stream",
     "text": [
      "Thu Aug 26 12:13:01 2021    profiling/custom_numpyslice.file\n",
      "\n",
      "         22954041 function calls (21033095 primitive calls) in 619.846 seconds\n",
      "\n",
      "   Ordered by: internal time\n",
      "   List reduced from 12753 to 10 due to restriction <10>\n",
      "\n",
      "   ncalls  tottime  percall  cumtime  percall filename:lineno(function)\n",
      "      967  225.374    0.233  225.374    0.233 {built-in method _winapi.WaitForMultipleObjects}\n",
      "    28230  103.479    0.004  103.479    0.004 {method 'cpu' of 'torch._C._TensorBase' objects}\n",
      "    17589   82.290    0.005   82.291    0.005 {method 'to' of 'torch._C._TensorBase' objects}\n",
      "     9984   36.352    0.004   36.352    0.004 {method 'run_backward' of 'torch._C._EngineBase' objects}\n",
      "    10803   15.429    0.001   16.821    0.002 C:\\Users\\batua\\anaconda3\\envs\\rlnav\\lib\\site-packages\\torch\\distributions\\distribution.py:34(__init__)\n",
      "    13312   14.546    0.001   14.546    0.001 {method 'item' of 'torch._C._TensorBase' objects}\n",
      "    82281   12.137    0.000   12.137    0.000 {method 'cuda' of 'torch._C._TensorBase' objects}\n",
      "    54864   10.209    0.000   10.209    0.000 {built-in method conv2d}\n",
      "    96512   10.101    0.000   12.479    0.000 c:\\users\\batua\\desktop\\rlnav\\rlagency\\stable-baselines3\\stable_baselines3\\common\\utils.py:365(zip_strict)\n",
      "    89740    9.821    0.000    9.821    0.000 {built-in method torch._C._nn.linear}\n",
      "\n",
      "\n"
     ]
    },
    {
     "data": {
      "text/plain": [
       "<pstats.Stats at 0x2c2f1041cc8>"
      ]
     },
     "execution_count": 39,
     "metadata": {},
     "output_type": "execute_result"
    }
   ],
   "source": [
    "# trainable params: 6076679\n",
    "# Custom built network with slicing done converted to and back from numpy\n",
    "\n",
    "custom_numpyslice = pstats.Stats('profiling/custom_numpyslice.file')\n",
    "custom_numpyslice.sort_stats(\"tottime\").print_stats(10)"
   ]
  },
  {
   "cell_type": "code",
   "execution_count": 45,
   "metadata": {},
   "outputs": [
    {
     "name": "stdout",
     "output_type": "stream",
     "text": [
      "Thu Aug 26 13:55:55 2021    profiling/custom_new.file\n",
      "\n",
      "         23680886 function calls (21840620 primitive calls) in 1379.732 seconds\n",
      "\n",
      "   Ordered by: internal time\n",
      "   List reduced from 12757 to 10 due to restriction <10>\n",
      "\n",
      "   ncalls  tottime  percall  cumtime  percall filename:lineno(function)\n",
      "    13312  545.294    0.041  545.294    0.041 {method 'item' of 'torch._C._TensorBase' objects}\n",
      "    17609  289.391    0.016  289.392    0.016 {method 'to' of 'torch._C._TensorBase' objects}\n",
      "      967  234.159    0.242  234.159    0.242 {built-in method _winapi.WaitForMultipleObjects}\n",
      "    10803  123.615    0.011  125.501    0.012 C:\\Users\\batua\\anaconda3\\envs\\rlnav\\lib\\site-packages\\torch\\distributions\\distribution.py:34(__init__)\n",
      "     9984   46.179    0.005   46.179    0.005 {method 'run_backward' of 'torch._C._EngineBase' objects}\n",
      "   109824   11.302    0.000   13.715    0.000 c:\\users\\batua\\desktop\\rlnav\\rlagency\\stable-baselines3\\stable_baselines3\\common\\utils.py:365(zip_strict)\n",
      "   117167   11.132    0.000   11.132    0.000 {built-in method torch._C._nn.linear}\n",
      "    54864   10.634    0.000   10.634    0.000 {built-in method conv2d}\n",
      "    54864    9.265    0.000    9.265    0.000 {built-in method conv3d}\n",
      "   452608    6.435    0.000    6.435    0.000 {method 'mul_' of 'torch._C._TensorBase' objects}\n",
      "\n",
      "\n"
     ]
    },
    {
     "data": {
      "text/plain": [
       "<pstats.Stats at 0x2c2f87e4988>"
      ]
     },
     "execution_count": 45,
     "metadata": {},
     "output_type": "execute_result"
    }
   ],
   "source": [
    "# trainable params: 3610087\n",
    "# Custom built network  with Adam\n",
    "\n",
    "custom_new = pstats.Stats('profiling/custom_new.file')\n",
    "custom_new.sort_stats(\"tottime\").print_stats(10)"
   ]
  },
  {
   "cell_type": "code",
   "execution_count": 55,
   "metadata": {},
   "outputs": [
    {
     "name": "stdout",
     "output_type": "stream",
     "text": [
      "Thu Aug 26 15:50:31 2021    profiling/only_cpu.file\n",
      "\n",
      "         11153697 function calls (10382652 primitive calls) in 6599.827 seconds\n",
      "\n",
      "   Ordered by: internal time\n",
      "   List reduced from 12223 to 10 due to restriction <10>\n",
      "\n",
      "   ncalls  tottime  percall  cumtime  percall filename:lineno(function)\n",
      "     4005 3995.416    0.998 3995.416    0.998 {method 'run_backward' of 'torch._C._EngineBase' objects}\n",
      "    22080 1544.570    0.070 1544.570    0.070 {built-in method conv3d}\n",
      "    77265  314.955    0.004  314.955    0.004 {built-in method relu}\n",
      "    22080  242.468    0.011  242.468    0.011 {built-in method conv2d}\n",
      "    47175  204.935    0.004 2416.396    0.051 C:\\Users\\batua\\anaconda3\\envs\\rlnav\\lib\\site-packages\\torch\\nn\\modules\\container.py:137(forward)\n",
      "      519  123.358    0.238  123.358    0.238 {built-in method _winapi.WaitForMultipleObjects}\n",
      "    22080   71.211    0.003   71.211    0.003 {built-in method mean}\n",
      "    47165   34.312    0.001   34.312    0.001 {built-in method torch._C._nn.linear}\n",
      "    69401    7.369    0.000    7.369    0.000 {method 'addcdiv_' of 'torch._C._TensorBase' objects}\n",
      "    25724    6.412    0.000    6.412    0.000 {built-in method cat}\n",
      "\n",
      "\n"
     ]
    },
    {
     "data": {
      "text/plain": [
       "<pstats.Stats at 0x2c3cdb0f288>"
      ]
     },
     "execution_count": 55,
     "metadata": {},
     "output_type": "execute_result"
    }
   ],
   "source": [
    "# trainable params: 6076679\n",
    "# no gpu\n",
    "\n",
    "only_cpu = pstats.Stats('profiling/only_cpu.file')\n",
    "only_cpu.sort_stats(\"tottime\").print_stats(10)"
   ]
  },
  {
   "cell_type": "code",
   "execution_count": 58,
   "metadata": {},
   "outputs": [
    {
     "name": "stdout",
     "output_type": "stream",
     "text": [
      "Thu Aug 26 18:15:08 2021    profiling/dict.file\n",
      "\n",
      "         24345217 function calls (22457421 primitive calls) in 1174.839 seconds\n",
      "\n",
      "   Ordered by: internal time\n",
      "   List reduced from 12774 to 10 due to restriction <10>\n",
      "\n",
      "   ncalls  tottime  percall  cumtime  percall filename:lineno(function)\n",
      "    13312  474.423    0.036  474.423    0.036 {method 'item' of 'torch._C._TensorBase' objects}\n",
      "    32607  227.771    0.007  227.771    0.007 {method 'to' of 'torch._C._TensorBase' objects}\n",
      "      967  220.353    0.228  220.353    0.228 {built-in method _winapi.WaitForMultipleObjects}\n",
      "    10803  104.791    0.010  106.145    0.010 C:\\Users\\batua\\anaconda3\\envs\\rlnav\\lib\\site-packages\\torch\\distributions\\distribution.py:34(__init__)\n",
      "     9984   34.658    0.003   34.658    0.003 {method 'run_backward' of 'torch._C._EngineBase' objects}\n",
      "   109824   10.338    0.000   12.508    0.000 c:\\users\\batua\\desktop\\rlnav\\rlagency\\stable-baselines3\\stable_baselines3\\common\\utils.py:375(zip_strict)\n",
      "    54864    8.035    0.000    8.035    0.000 {built-in method conv2d}\n",
      "   117167    7.400    0.000    7.400    0.000 {built-in method torch._C._nn.linear}\n",
      "    54864    6.138    0.000    6.138    0.000 {built-in method conv3d}\n",
      "   452608    5.429    0.000    5.429    0.000 {method 'mul_' of 'torch._C._TensorBase' objects}\n",
      "\n",
      "\n"
     ]
    },
    {
     "data": {
      "text/plain": [
       "<pstats.Stats at 0x2c3cdb91388>"
      ]
     },
     "execution_count": 58,
     "metadata": {},
     "output_type": "execute_result"
    }
   ],
   "source": [
    "# trainable params: 410087\n",
    "# Using the dict\n",
    "\n",
    "dictt = pstats.Stats('profiling/dict.file')\n",
    "dictt.sort_stats(\"tottime\").print_stats(10)"
   ]
  },
  {
   "cell_type": "code",
   "execution_count": 59,
   "metadata": {},
   "outputs": [
    {
     "name": "stdout",
     "output_type": "stream",
     "text": [
      "Thu Aug 26 19:53:35 2021    profiling/custom_mlp.file\n",
      "\n",
      "         13689289 function calls (12939564 primitive calls) in 308.257 seconds\n",
      "\n",
      "   Ordered by: internal time\n",
      "   List reduced from 12737 to 10 due to restriction <10>\n",
      "\n",
      "   ncalls  tottime  percall  cumtime  percall filename:lineno(function)\n",
      "      967  218.888    0.226  218.888    0.226 {built-in method _winapi.WaitForMultipleObjects}\n",
      "     9984   14.442    0.001   14.442    0.001 {method 'run_backward' of 'torch._C._EngineBase' objects}\n",
      "    89740    6.630    0.000    6.630    0.000 {built-in method torch._C._nn.linear}\n",
      "    43264    4.148    0.000    5.062    0.000 c:\\users\\batua\\desktop\\rlnav\\rlagency\\stable-baselines3\\stable_baselines3\\common\\utils.py:375(zip_strict)\n",
      "      469    4.127    0.009    4.127    0.009 {method 'acquire' of '_thread.lock' objects}\n",
      "    17509    3.538    0.000    3.538    0.000 {method 'to' of 'torch._C._TensorBase' objects}\n",
      "    10803    3.509    0.000    4.587    0.000 C:\\Users\\batua\\anaconda3\\envs\\rlnav\\lib\\site-packages\\torch\\distributions\\distribution.py:34(__init__)\n",
      "      304    2.771    0.009    2.771    0.009 {built-in method _winapi.WaitForSingleObject}\n",
      "   203811    2.574    0.000    2.574    0.000 {built-in method numpy.array}\n",
      "    13312    2.464    0.000    2.464    0.000 {method 'item' of 'torch._C._TensorBase' objects}\n",
      "\n",
      "\n"
     ]
    },
    {
     "data": {
      "text/plain": [
       "<pstats.Stats at 0x2c3ce8fd708>"
      ]
     },
     "execution_count": 59,
     "metadata": {},
     "output_type": "execute_result"
    }
   ],
   "source": [
    "# trainable params: 410087\n",
    "# Using our own implementation of mlp. this means it is in CNN.\n",
    "\n",
    "custom_mlp = pstats.Stats('profiling/custom_mlp.file')\n",
    "custom_mlp.sort_stats(\"tottime\").print_stats(10)"
   ]
  },
  {
   "cell_type": "code",
   "execution_count": 89,
   "metadata": {},
   "outputs": [
    {
     "name": "stdout",
     "output_type": "stream",
     "text": [
      "Thu Aug 26 20:39:08 2021    profiling/all2dcnn.file\n",
      "\n",
      "         24361629 function calls (22473857 primitive calls) in 434.104 seconds\n",
      "\n",
      "   Ordered by: internal time\n",
      "   List reduced from 12776 to 10 due to restriction <10>\n",
      "\n",
      "   ncalls  tottime  percall  cumtime  percall filename:lineno(function)\n",
      "      967  206.363    0.213  206.363    0.213 {built-in method _winapi.WaitForMultipleObjects}\n",
      "    13312   56.092    0.004   56.092    0.004 {method 'item' of 'torch._C._TensorBase' objects}\n",
      "     9984   31.139    0.003   31.139    0.003 {method 'run_backward' of 'torch._C._EngineBase' objects}\n",
      "    10803   16.905    0.002   18.092    0.002 C:\\Users\\batua\\anaconda3\\envs\\rlnav\\lib\\site-packages\\torch\\distributions\\distribution.py:34(__init__)\n",
      "   109728   13.794    0.000   13.794    0.000 {built-in method conv2d}\n",
      "    32587   13.394    0.000   13.394    0.000 {method 'to' of 'torch._C._TensorBase' objects}\n",
      "   109824   10.762    0.000   12.975    0.000 c:\\users\\batua\\desktop\\rlnav\\rlagency\\stable-baselines3\\stable_baselines3\\common\\utils.py:375(zip_strict)\n",
      "   117167    7.177    0.000    7.177    0.000 {built-in method torch._C._nn.linear}\n",
      "   452608    5.432    0.000    5.432    0.000 {method 'mul_' of 'torch._C._TensorBase' objects}\n",
      "   192009    4.334    0.000    4.334    0.000 {built-in method relu}\n",
      "\n",
      "\n"
     ]
    },
    {
     "data": {
      "text/plain": [
       "<pstats.Stats at 0x2c3d1cf4c88>"
      ]
     },
     "execution_count": 89,
     "metadata": {},
     "output_type": "execute_result"
    }
   ],
   "source": [
    "# trainable params: 400000\n",
    "# No more 3d convs\n",
    "\n",
    "all2dcnn = pstats.Stats('profiling/all2dcnn.file')\n",
    "all2dcnn.sort_stats(\"tottime\").print_stats(10)"
   ]
  },
  {
   "cell_type": "code",
   "execution_count": 92,
   "metadata": {},
   "outputs": [
    {
     "name": "stdout",
     "output_type": "stream",
     "text": [
      "Thu Aug 26 20:53:59 2021    profiling/all2dcnn2.file\n",
      "\n",
      "         764773 function calls (745284 primitive calls) in 1.427 seconds\n",
      "\n",
      "   Ordered by: internal time\n",
      "   List reduced from 4455 to 10 due to restriction <10>\n",
      "\n",
      "   ncalls  tottime  percall  cumtime  percall filename:lineno(function)\n",
      "        1    0.184    0.184    0.265    0.265 C:\\Users\\batua\\anaconda3\\envs\\rlnav\\lib\\site-packages\\torch\\__init__.py:10(<module>)\n",
      "     5118    0.184    0.000    0.184    0.000 {built-in method nt.stat}\n",
      "      826    0.171    0.000    0.205    0.000 <frozen importlib._bootstrap_external>:914(get_data)\n",
      "    64/63    0.119    0.002    0.122    0.002 {built-in method _imp.create_dynamic}\n",
      "       24    0.063    0.003    0.063    0.003 {method 'acquire' of '_thread.lock' objects}\n",
      "      826    0.058    0.000    0.058    0.000 {built-in method marshal.loads}\n",
      "      826    0.034    0.000    0.034    0.000 {method 'read' of '_io.FileIO' objects}\n",
      "      441    0.032    0.000    0.032    0.000 {built-in method nt.listdir}\n",
      "1964/1951    0.026    0.000    0.109    0.000 {built-in method builtins.__build_class__}\n",
      "      806    0.026    0.000    0.026    0.000 {built-in method nt._isdir}\n",
      "\n",
      "\n"
     ]
    },
    {
     "data": {
      "text/plain": [
       "<pstats.Stats at 0x2c3d1ce2048>"
      ]
     },
     "execution_count": 92,
     "metadata": {},
     "output_type": "execute_result"
    }
   ],
   "source": [
    "# trainable params: 2658311\n",
    "# No more 3d convs\n",
    "\n",
    "all2dcnn = pstats.Stats('profiling/all2dcnn2.file')\n",
    "all2dcnn.sort_stats(\"tottime\").print_stats(10)"
   ]
  },
  {
   "cell_type": "code",
   "execution_count": null,
   "metadata": {},
   "outputs": [],
   "source": []
  }
 ],
 "metadata": {
  "accelerator": "GPU",
  "colab": {
   "name": "UnityML",
   "provenance": []
  },
  "kernelspec": {
   "display_name": "Python 3 (ipykernel)",
   "language": "python",
   "name": "python3"
  },
  "language_info": {
   "codemirror_mode": {
    "name": "ipython",
    "version": 3
   },
   "file_extension": ".py",
   "mimetype": "text/x-python",
   "name": "python",
   "nbconvert_exporter": "python",
   "pygments_lexer": "ipython3",
   "version": "3.7.10"
  }
 },
 "nbformat": 4,
 "nbformat_minor": 4
}
