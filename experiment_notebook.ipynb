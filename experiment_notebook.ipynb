{
 "cells": [
  {
   "cell_type": "markdown",
   "metadata": {
    "colab": {
     "base_uri": "https://localhost:8080/"
    },
    "id": "L_wK2B8JJwsQ",
    "outputId": "34529116-8689-4cf3-9467-58da865821ac"
   },
   "source": [
    "# Reinforcement Learning for Navigation Network Study"
   ]
  },
  {
   "cell_type": "code",
   "execution_count": 1,
   "metadata": {},
   "outputs": [],
   "source": [
    "from stable_baselines3 import SAC\n",
    "from stable_baselines3.common.vec_env import MultiAgentVecEnv\n",
    "\n",
    "from mlagents_envs.exception import UnityTimeOutException, UnityWorkerInUseException\n",
    "from mlagents_envs.side_channel.engine_configuration_channel import EngineConfigurationChannel\n",
    "\n",
    "import torch as th\n",
    "\n",
    "import os, yaml\n",
    "import random\n",
    "import time\n",
    "import datetime\n",
    "import numpy as np\n",
    "import torch as th\n",
    "from torch import nn\n",
    "\n",
    "from mlagents_envs.environment import UnityEnvironment\n",
    "from gym_unity.envs import UnityToMultiGymWrapper \n",
    "import wandb\n",
    "from rlnav.logging import WANDBMonitor, test_model\n",
    "from rlnav.schedules import linear_schedule\n",
    "from pathlib import Path"
   ]
  },
  {
   "cell_type": "code",
   "execution_count": 2,
   "metadata": {},
   "outputs": [],
   "source": [
    "from torchsummary import summary"
   ]
  },
  {
   "cell_type": "code",
   "execution_count": 3,
   "metadata": {},
   "outputs": [
    {
     "name": "stdout",
     "output_type": "stream",
     "text": [
      "Populating the interactive namespace from numpy and matplotlib\n"
     ]
    },
    {
     "name": "stderr",
     "output_type": "stream",
     "text": [
      "C:\\Users\\batua\\anaconda3\\envs\\rlnav\\lib\\site-packages\\IPython\\core\\magics\\pylab.py:160: UserWarning: pylab import has clobbered these variables: ['random']\n",
      "`%matplotlib` prevents importing * from pylab and numpy\n",
      "  \"\\n`%matplotlib` prevents importing * from pylab and numpy\"\n"
     ]
    }
   ],
   "source": [
    "%load_ext autoreload\n",
    "%autoreload 2\n",
    "%pylab inline"
   ]
  },
  {
   "cell_type": "code",
   "execution_count": 4,
   "metadata": {},
   "outputs": [
    {
     "data": {
      "text/plain": [
       "device(type='cuda')"
      ]
     },
     "execution_count": 4,
     "metadata": {},
     "output_type": "execute_result"
    }
   ],
   "source": [
    "device = th.device('cuda' if th.cuda.is_available() else 'cpu')\n",
    "device"
   ]
  },
  {
   "cell_type": "markdown",
   "metadata": {},
   "source": [
    "## The Incoming Data"
   ]
  },
  {
   "cell_type": "markdown",
   "metadata": {},
   "source": [
    "![The Point the data is gathered](tmp/Observation.png \"The observation\")"
   ]
  },
  {
   "cell_type": "code",
   "execution_count": 5,
   "metadata": {},
   "outputs": [
    {
     "name": "stdout",
     "output_type": "stream",
     "text": [
      "Loaded shape: (10000, 1, 505)\n"
     ]
    }
   ],
   "source": [
    "observations = np.load('observation505_fixed.npy')\n",
    "print(\"Loaded shape:\", observations.shape)\n",
    "observations = observations.squeeze()\n",
    "\n",
    "vector_size    = 19 \n",
    "whisker_size   = 26 + 6 # 6 represents the rotation observation which is included in depth_map component but can be ignored.\n",
    "depth_size     = 55 - 6\n",
    "occupancy_size = 405\n",
    "\n",
    "vector_end    = vector_size\n",
    "whisker_end   = vector_end  + whisker_size\n",
    "depth_end     = whisker_end + depth_size\n",
    "occupancy_end = depth_end   + occupancy_size"
   ]
  },
  {
   "cell_type": "code",
   "execution_count": 6,
   "metadata": {
    "scrolled": true
   },
   "outputs": [
    {
     "name": "stdout",
     "output_type": "stream",
     "text": [
      "505\n"
     ]
    }
   ],
   "source": [
    "vec_obs       = observations[:, 0:vector_end]\n",
    "whisker_obs   = observations[:, vector_end :whisker_end]\n",
    "depth_obs     = observations[:, whisker_end:depth_end]\n",
    "occupancy_obs = observations[:, depth_end  :occupancy_end]\n",
    "\n",
    "assert vec_obs.shape[1]+ whisker_obs.shape[1]+ depth_obs.shape[1] + occupancy_obs.shape[1] == 505 \n",
    "print(vec_obs.shape[1]+ whisker_obs.shape[1]+ depth_obs.shape[1] + occupancy_obs.shape[1])"
   ]
  },
  {
   "cell_type": "markdown",
   "metadata": {},
   "source": [
    "## Depthmask"
   ]
  },
  {
   "cell_type": "markdown",
   "metadata": {},
   "source": [
    "![The Point the data is gathered](tmp/Depthmask.png \"The observation\")\n",
    "\n",
    "#### The ground is not shown. Raycasts ignore the collider if they are spawned from the inside of it."
   ]
  },
  {
   "cell_type": "code",
   "execution_count": 7,
   "metadata": {},
   "outputs": [
    {
     "data": {
      "text/plain": [
       "(10000, 49)"
      ]
     },
     "execution_count": 7,
     "metadata": {},
     "output_type": "execute_result"
    }
   ],
   "source": [
    "depth_obs.shape"
   ]
  },
  {
   "cell_type": "code",
   "execution_count": 8,
   "metadata": {},
   "outputs": [
    {
     "name": "stdout",
     "output_type": "stream",
     "text": [
      "[0.        0.        0.        0.        0.        0.9295996 0.4421997\n",
      " 0.        0.        0.        0.        0.        0.9295996 0.4421997\n",
      " 0.        0.        0.        0.        0.        0.9295996 0.4421997\n",
      " 0.        0.        0.        0.        0.        0.9295996 0.4421997\n",
      " 0.        0.        0.        0.        0.        0.9295996 0.4421997\n",
      " 0.        0.        0.        0.        0.        0.9295996 0.4421997\n",
      " 0.        0.        0.        0.        0.        0.9295996 0.4421997]\n"
     ]
    }
   ],
   "source": [
    "print(depth_obs[0])"
   ]
  },
  {
   "cell_type": "code",
   "execution_count": 9,
   "metadata": {},
   "outputs": [
    {
     "data": {
      "text/plain": [
       "(10000, 7, 7)"
      ]
     },
     "execution_count": 9,
     "metadata": {},
     "output_type": "execute_result"
    }
   ],
   "source": [
    "depth_obs.shape\n",
    "depth_obs_2d = depth_obs.reshape(-1, 7, 7)  ### Occupancy Grid\n",
    "depth_obs_2d.shape"
   ]
  },
  {
   "cell_type": "code",
   "execution_count": 10,
   "metadata": {
    "scrolled": true
   },
   "outputs": [
    {
     "data": {
      "text/plain": [
       "<matplotlib.image.AxesImage at 0x2c2f0ff17c8>"
      ]
     },
     "execution_count": 10,
     "metadata": {},
     "output_type": "execute_result"
    },
    {
     "data": {
      "image/png": "[encoded data removed]",
      "text/plain": [
       "<Figure size 432x288 with 1 Axes>"
      ]
     },
     "metadata": {
      "needs_background": "light"
     },
     "output_type": "display_data"
    }
   ],
   "source": [
    "imshow(depth_obs_2d[100])"
   ]
  },
  {
   "cell_type": "code",
   "execution_count": 11,
   "metadata": {},
   "outputs": [
    {
     "data": {
      "text/plain": [
       "<matplotlib.image.AxesImage at 0x2c2f849bf88>"
      ]
     },
     "execution_count": 11,
     "metadata": {},
     "output_type": "execute_result"
    },
    {
     "data": {
      "image/png": "[encoded data removed]",
      "text/plain": [
       "<Figure size 432x288 with 1 Axes>"
      ]
     },
     "metadata": {
      "needs_background": "light"
     },
     "output_type": "display_data"
    }
   ],
   "source": [
    "imshow(depth_obs_2d[100].T)"
   ]
  },
  {
   "cell_type": "markdown",
   "metadata": {},
   "source": [
    "## Occupancy Grid"
   ]
  },
  {
   "cell_type": "markdown",
   "metadata": {},
   "source": [
    "![The Point the data is gathered](tmp/Occupancy.png \"The observation\")\n",
    "\n",
    "## (9, 5, 9) - (x,y,z) box size"
   ]
  },
  {
   "cell_type": "code",
   "execution_count": 12,
   "metadata": {},
   "outputs": [],
   "source": [
    "occupancy_obs.shape\n",
    "occupancy_obs_3d = occupancy_obs.reshape(-1, 9, 5, 9)\n",
    "occupancy_obs_3d_plt = np.swapaxes(occupancy_obs_3d, -1, -2)"
   ]
  },
  {
   "cell_type": "code",
   "execution_count": 13,
   "metadata": {},
   "outputs": [
    {
     "name": "stdout",
     "output_type": "stream",
     "text": [
      "4072\n"
     ]
    }
   ],
   "source": [
    "idx = random.randint(0,10000)\n",
    "print(idx)"
   ]
  },
  {
   "cell_type": "code",
   "execution_count": 14,
   "metadata": {},
   "outputs": [
    {
     "data": {
      "image/png": "[encoded data removed]",
      "text/plain": [
       "<Figure size 432x288 with 1 Axes>"
      ]
     },
     "metadata": {
      "needs_background": "light"
     },
     "output_type": "display_data"
    }
   ],
   "source": [
    "ax = plt.figure().add_subplot(projection='3d')\n",
    "_ = ax.voxels(occupancy_obs_3d_plt[idx-1])"
   ]
  },
  {
   "cell_type": "markdown",
   "metadata": {},
   "source": [
    "### Preprocessing input"
   ]
  },
  {
   "cell_type": "code",
   "execution_count": 15,
   "metadata": {},
   "outputs": [],
   "source": [
    "batch_size = 512\n",
    "input_tensor = th.tensor(observations[:batch_size]).cuda()\n",
    "action_dim = 3\n",
    "\n",
    "depthmap_side_size = 7\n",
    "occupancy_grid_shape = (9,5,9) \n",
    "\n",
    "is_critic = False # When the network is the critic the actions are appended to the end of the input. policies.py 847"
   ]
  },
  {
   "cell_type": "code",
   "execution_count": 16,
   "metadata": {},
   "outputs": [
    {
     "data": {
      "text/plain": [
       "19"
      ]
     },
     "execution_count": 16,
     "metadata": {},
     "output_type": "execute_result"
    }
   ],
   "source": [
    "depth_obs.shape\n",
    "vector_end"
   ]
  },
  {
   "cell_type": "code",
   "execution_count": 17,
   "metadata": {},
   "outputs": [],
   "source": [
    "# This is done at every forward.\n",
    "if is_critic:\n",
    "    original_vector = input_tensor[:, :whisker_end]\n",
    "    actions_in_critic = input_tensor[:, -action_dim:]\n",
    "    vector_obs = th.cat((original_vector, actions_in_critic),dim=1)\n",
    "else:\n",
    "    vector_obs = input_tensor[:, :whisker_end].cuda()\n",
    "\n",
    "depth_obs     = input_tensor[:, whisker_end: depth_end]\n",
    "occupancy_obs = input_tensor[:, depth_end: occupancy_end]\n",
    "\n",
    "depth_obs2d = depth_obs.reshape(-1, 1, depthmap_side_size, depthmap_side_size)\n",
    "occupancy_obs3d = occupancy_obs.reshape(-1, 1, *occupancy_grid_shape)"
   ]
  },
  {
   "cell_type": "code",
   "execution_count": null,
   "metadata": {},
   "outputs": [],
   "source": [
    "assert depth_obs.shape[1] == 49\n",
    "assert occupancy_obs.shape[1] == 405\n"
   ]
  },
  {
   "cell_type": "code",
   "execution_count": 18,
   "metadata": {},
   "outputs": [
    {
     "name": "stdout",
     "output_type": "stream",
     "text": [
      "torch.Size([512, 51])\n",
      "torch.Size([512, 1, 7, 7])\n",
      "torch.Size([512, 1, 9, 5, 9])\n"
     ]
    }
   ],
   "source": [
    "print(vector_obs.shape)\n",
    "print(depth_obs2d.shape)\n",
    "print(occupancy_obs3d.shape)\n",
    "\n",
    "assert 505 == vector_obs.shape[-1] + \\\n",
    "              depth_obs2d.shape[-2] * depth_obs2d.shape[-1] + \\\n",
    "              occupancy_obs3d.shape[-3] * occupancy_obs3d.shape[-2] * occupancy_obs3d.shape[-1]"
   ]
  },
  {
   "cell_type": "markdown",
   "metadata": {},
   "source": [
    "### Depthmap Layers"
   ]
  },
  {
   "cell_type": "code",
   "execution_count": 19,
   "metadata": {},
   "outputs": [
    {
     "data": {
      "text/plain": [
       "torch.Size([512, 1, 7, 7])"
      ]
     },
     "execution_count": 19,
     "metadata": {},
     "output_type": "execute_result"
    }
   ],
   "source": [
    "depth_obs2d.shape"
   ]
  },
  {
   "cell_type": "code",
   "execution_count": 20,
   "metadata": {},
   "outputs": [],
   "source": [
    "class MyGlobal2DMaxPoolLayer(nn.Module): #Is this the correct name?\n",
    "    def __init__(self):\n",
    "        super().__init__()\n",
    "\n",
    "    def forward(self, x):\n",
    "        return th.mean(x, dim =(-2,-1))"
   ]
  },
  {
   "cell_type": "code",
   "execution_count": 21,
   "metadata": {},
   "outputs": [
    {
     "name": "stdout",
     "output_type": "stream",
     "text": [
      "----------------------------------------------------------------\n",
      "        Layer (type)               Output Shape         Param #\n",
      "================================================================\n",
      "            Conv2d-1             [-1, 64, 9, 9]             640\n",
      "              ReLU-2             [-1, 64, 9, 9]               0\n",
      "            Conv2d-3           [-1, 64, 11, 11]          36,928\n",
      "              ReLU-4           [-1, 64, 11, 11]               0\n",
      "MyGlobal2DMaxPoolLayer-5                   [-1, 64]               0\n",
      "================================================================\n",
      "Total params: 37,568\n",
      "Trainable params: 37,568\n",
      "Non-trainable params: 0\n",
      "----------------------------------------------------------------\n",
      "Input size (MB): 0.00\n",
      "Forward/backward pass size (MB): 0.20\n",
      "Params size (MB): 0.14\n",
      "Estimated Total Size (MB): 0.34\n",
      "----------------------------------------------------------------\n"
     ]
    }
   ],
   "source": [
    "def create_depthmap_layers(): \n",
    "    conv2d_size = 64\n",
    "    depthmap_layers = nn.Sequential(\n",
    "        nn.Conv2d(in_channels=1, out_channels=conv2d_size, kernel_size=3, padding=2, stride=1), nn.ReLU(),\n",
    "        nn.Conv2d(conv2d_size,   out_channels=conv2d_size, kernel_size=3, padding=2, stride=1), nn.ReLU(),\n",
    "        MyGlobal2DMaxPoolLayer(),\n",
    "    ) \n",
    "    return depthmap_layers\n",
    "\n",
    "depthmap_layers = create_depthmap_layers()\n",
    "depthmap_layers.cuda()\n",
    "\n",
    "depthmap_layers_output_shape = depthmap_layers(depth_obs2d).shape[-1]\n",
    "summary(depthmap_layers, depth_obs2d.shape[1:])"
   ]
  },
  {
   "cell_type": "markdown",
   "metadata": {},
   "source": [
    "### Occupancy Layers"
   ]
  },
  {
   "cell_type": "code",
   "execution_count": 22,
   "metadata": {},
   "outputs": [],
   "source": [
    "class MyGlobal3DMaxPoolLayer(nn.Module): #Is this the correct name?\n",
    "    def __init__(self):\n",
    "        super().__init__()\n",
    "\n",
    "    def forward(self, x):\n",
    "        return th.mean(x, dim=(-3, -2,-1))"
   ]
  },
  {
   "cell_type": "code",
   "execution_count": 23,
   "metadata": {},
   "outputs": [
    {
     "name": "stdout",
     "output_type": "stream",
     "text": [
      "----------------------------------------------------------------\n",
      "        Layer (type)               Output Shape         Param #\n",
      "================================================================\n",
      "            Conv3d-1        [-1, 32, 11, 7, 11]             896\n",
      "              ReLU-2        [-1, 32, 11, 7, 11]               0\n",
      "            Conv3d-3        [-1, 32, 13, 9, 13]          27,680\n",
      "              ReLU-4        [-1, 32, 13, 9, 13]               0\n",
      "MyGlobal3DMaxPoolLayer-5                   [-1, 32]               0\n",
      "================================================================\n",
      "Total params: 28,576\n",
      "Trainable params: 28,576\n",
      "Non-trainable params: 0\n",
      "----------------------------------------------------------------\n",
      "Input size (MB): 0.00\n",
      "Forward/backward pass size (MB): 1.16\n",
      "Params size (MB): 0.11\n",
      "Estimated Total Size (MB): 1.27\n",
      "----------------------------------------------------------------\n"
     ]
    }
   ],
   "source": [
    "def create_occupancy_layers():\n",
    "    conv3d_size = 32\n",
    "    occupancy_layers = nn.Sequential(\n",
    "        nn.Conv3d(in_channels=1, out_channels=conv3d_size, kernel_size=3, padding=2, stride=1), nn.ReLU(),\n",
    "        nn.Conv3d(conv3d_size,   out_channels=conv3d_size, kernel_size=3, padding=2, stride=1), nn.ReLU(),\n",
    "        MyGlobal3DMaxPoolLayer()\n",
    "    )\n",
    "    return occupancy_layers\n",
    "\n",
    "occupancy_layers = create_occupancy_layers()\n",
    "occupancy_layers.cuda()\n",
    "occupancy_layers_output_shape = occupancy_layers(occupancy_obs3d.cuda()).shape[-1]\n",
    "\n",
    "summary(occupancy_layers, occupancy_obs3d.shape[1:])"
   ]
  },
  {
   "cell_type": "markdown",
   "metadata": {},
   "source": [
    "### Vector Layers"
   ]
  },
  {
   "cell_type": "code",
   "execution_count": 24,
   "metadata": {},
   "outputs": [
    {
     "data": {
      "text/plain": [
       "Sequential(\n",
       "  (0): Linear(in_features=51, out_features=512, bias=True)\n",
       "  (1): ReLU()\n",
       "  (2): Linear(in_features=512, out_features=512, bias=True)\n",
       ")"
      ]
     },
     "execution_count": 24,
     "metadata": {},
     "output_type": "execute_result"
    }
   ],
   "source": [
    "def create_vector_layers():\n",
    "    hidden_dim = 512\n",
    "    vector_layers = nn.Sequential(\n",
    "        nn.Linear(vector_obs.shape[-1], hidden_dim), nn.ReLU(),\n",
    "        nn.Linear(hidden_dim, hidden_dim), \n",
    "    )\n",
    "    return vector_layers\n",
    "\n",
    "vector_layers = create_vector_layers()\n",
    "vector_layers.cuda()"
   ]
  },
  {
   "cell_type": "markdown",
   "metadata": {},
   "source": [
    "### Combine Layers"
   ]
  },
  {
   "cell_type": "code",
   "execution_count": 25,
   "metadata": {},
   "outputs": [
    {
     "data": {
      "text/plain": [
       "Sequential(\n",
       "  (0): Linear(in_features=608, out_features=512, bias=True)\n",
       "  (1): ReLU()\n",
       "  (2): Linear(in_features=512, out_features=512, bias=True)\n",
       "  (3): ReLU()\n",
       ")"
      ]
     },
     "execution_count": 25,
     "metadata": {},
     "output_type": "execute_result"
    }
   ],
   "source": [
    "hidden_dim = 512\n",
    "combo_model = nn.Sequential(\n",
    "    nn.Linear(hidden_dim + occupancy_layers_output_shape + depthmap_layers_output_shape, hidden_dim), nn.ReLU(),\n",
    "    nn.Linear(hidden_dim, hidden_dim), nn.ReLU(),\n",
    ")\n",
    "combo_model.cuda()"
   ]
  },
  {
   "cell_type": "code",
   "execution_count": 26,
   "metadata": {},
   "outputs": [],
   "source": [
    "depth_output     = th.squeeze(depthmap_layers(depth_obs2d.cuda()))\n",
    "occupancy_output = th.squeeze(occupancy_layers(occupancy_obs3d.cuda()))\n",
    "vector_output    = th.squeeze(vector_layers(vector_obs.cuda()))\n",
    "\n",
    "# Get the combination and pass it through the last linear layers.\n",
    "combined_input = th.cat((vector_output, occupancy_output, depth_output), dim=1)\n",
    "output = combo_model(combined_input)"
   ]
  },
  {
   "cell_type": "markdown",
   "metadata": {},
   "source": [
    "### Full Network"
   ]
  },
  {
   "cell_type": "code",
   "execution_count": 40,
   "metadata": {},
   "outputs": [],
   "source": [
    "class RLCustomNetwork(nn.Module):\n",
    "    def __init__(self):\n",
    "        super(RLCustomNetwork, self).__init__()\n",
    "        self.create_model()\n",
    "    \n",
    "    def create_model(self):\n",
    "        conv2d_size = 32\n",
    "        conv3d_size = 32\n",
    "        hidden_dim = 512\n",
    "        \n",
    "        self.depthmap_layers = create_depthmap_layers().cuda()\n",
    "        \n",
    "        self.occupancy_layers= create_occupancy_layers().cuda()\n",
    "        \n",
    "        self.vector_layers = create_vector_layers().cuda()\n",
    "        \n",
    "        self.combo_model = nn.Sequential(\n",
    "            nn.Linear(hidden_dim + occupancy_layers_output_shape + depthmap_layers_output_shape, hidden_dim), nn.ReLU(),\n",
    "        ).cuda()\n",
    "        \n",
    "       \n",
    "    def forward(self, input_tensor):\n",
    "        if is_critic:\n",
    "            original_vector = input_tensor[:, :whisker_end]\n",
    "            actions_in_critic = input_tensor[:, -action_dim:]\n",
    "            vector_obs = th.cat((original_vector, actions_in_critic),dim=1).cuda()\n",
    "        else:\n",
    "            vector_obs = input_tensor[:, :whisker_end].cuda() # Vectorend includes whiskers\n",
    "\n",
    "        depth_obs     = input_tensor[:, whisker_end: depth_end]\n",
    "        occupancy_obs = input_tensor[:, depth_end: occupancy_end]\n",
    "\n",
    "        depth_obs2d = depth_obs.reshape(-1, 1, depthmap_side_size, depthmap_side_size) # 1 is the filter size\n",
    "        occupancy_obs3d = occupancy_obs.reshape(-1, 1, *occupancy_grid_shape)\n",
    "        \n",
    "        depth_output     = th.squeeze(self.depthmap_layers(depth_obs.reshape(-1, 1, depthmap_side_size, depthmap_side_size)))\n",
    "        occupancy_output = th.squeeze(self.occupancy_layers(occupancy_obs.reshape(-1, 1, *occupancy_grid_shape)))\n",
    "        vector_output    = self.vector_layers(vector_obs)\n",
    "        \n",
    "        combined_input = th.cat((vector_output, occupancy_output, depth_output), dim=1)\n",
    "        output = self.combo_model(combined_input)\n",
    "        \n",
    "        return output"
   ]
  },
  {
   "cell_type": "code",
   "execution_count": 41,
   "metadata": {},
   "outputs": [
    {
     "data": {
      "text/plain": [
       "torch.Size([512, 512])"
      ]
     },
     "execution_count": 41,
     "metadata": {},
     "output_type": "execute_result"
    }
   ],
   "source": [
    "net = RLCustomNetwork()\n",
    "net(input_tensor).shape"
   ]
  },
  {
   "cell_type": "code",
   "execution_count": 42,
   "metadata": {},
   "outputs": [
    {
     "name": "stdout",
     "output_type": "stream",
     "text": [
      "----------------------------------------------------------------\n",
      "        Layer (type)               Output Shape         Param #\n",
      "================================================================\n",
      "            Conv2d-1             [-1, 64, 9, 9]             640\n",
      "              ReLU-2             [-1, 64, 9, 9]               0\n",
      "            Conv2d-3           [-1, 64, 11, 11]          36,928\n",
      "              ReLU-4           [-1, 64, 11, 11]               0\n",
      "MyGlobal2DMaxPoolLayer-5                   [-1, 64]               0\n",
      "            Conv3d-6        [-1, 32, 11, 7, 11]             896\n",
      "              ReLU-7        [-1, 32, 11, 7, 11]               0\n",
      "            Conv3d-8        [-1, 32, 13, 9, 13]          27,680\n",
      "              ReLU-9        [-1, 32, 13, 9, 13]               0\n",
      "MyGlobal3DMaxPoolLayer-10                   [-1, 32]               0\n",
      "           Linear-11                  [-1, 512]          26,624\n",
      "             ReLU-12                  [-1, 512]               0\n",
      "           Linear-13                  [-1, 512]         262,656\n",
      "           Linear-14                  [-1, 512]         311,808\n",
      "             ReLU-15                  [-1, 512]               0\n",
      "================================================================\n",
      "Total params: 667,232\n",
      "Trainable params: 667,232\n",
      "Non-trainable params: 0\n",
      "----------------------------------------------------------------\n",
      "Input size (MB): 0.00\n",
      "Forward/backward pass size (MB): 1.37\n",
      "Params size (MB): 2.55\n",
      "Estimated Total Size (MB): 3.92\n",
      "----------------------------------------------------------------\n"
     ]
    }
   ],
   "source": [
    "summary(net, input_tensor.shape[1:])"
   ]
  },
  {
   "cell_type": "markdown",
   "metadata": {},
   "source": [
    "# PROFILING"
   ]
  },
  {
   "cell_type": "code",
   "execution_count": 30,
   "metadata": {},
   "outputs": [],
   "source": [
    "# Default network trace profiler: https://wandb.ai/batu/Urban/artifacts/profile/trace-z1crfyl9/dea233bef8b2339f4b0e/files/trace.pt.trace.json\n",
    "# Custom network: https://wandb.ai/batu/Urban/artifacts/profile/trace-1mxyn7xs/1c4f8c37348d7efb23d8/files/trace.pt.trace.json"
   ]
  },
  {
   "cell_type": "code",
   "execution_count": 31,
   "metadata": {},
   "outputs": [],
   "source": [
    "import pstats\n",
    "from pstats import SortKey"
   ]
  },
  {
   "cell_type": "code",
   "execution_count": 32,
   "metadata": {},
   "outputs": [],
   "source": [
    "# #   net_arch: \n",
    "# #     pi: \n",
    "# #       - 512\n",
    "# #       - 512\n",
    "# #     qf:\n",
    "# #       - 1024\n",
    "# #       - 1024\n",
    "# #       - 1024\n",
    "# # trainable params: 11m\n",
    "# # mlp_mini \n",
    "\n",
    "# mlp = pstats.Stats('profiling/mlp.file')\n",
    "# mlp.sort_stats(\"tottime\").print_stats(10)"
   ]
  },
  {
   "cell_type": "code",
   "execution_count": 50,
   "metadata": {},
   "outputs": [
    {
     "name": "stdout",
     "output_type": "stream",
     "text": [
      "Thu Aug 26 11:54:36 2021    profiling/mlp.file\n",
      "\n",
      "         14161923 function calls (13514469 primitive calls) in 296.383 seconds\n",
      "\n",
      "   Ordered by: internal time\n",
      "   List reduced from 12736 to 50 due to restriction <50>\n",
      "\n",
      "   ncalls  tottime  percall  cumtime  percall filename:lineno(function)\n",
      "      967  205.194    0.212  205.194    0.212 {built-in method _winapi.WaitForMultipleObjects}\n",
      "     9984   15.185    0.002   15.185    0.002 {method 'run_backward' of 'torch._C._EngineBase' objects}\n",
      "   102249    8.329    0.000    8.329    0.000 {built-in method torch._C._nn.linear}\n",
      "    56576    5.357    0.000    6.339    0.000 c:\\users\\batua\\desktop\\rlnav\\rlagency\\stable-baselines3\\stable_baselines3\\common\\utils.py:365(zip_strict)\n",
      "    17521    5.087    0.000    5.088    0.000 {method 'to' of 'torch._C._TensorBase' objects}\n",
      "      477    3.759    0.008    3.759    0.008 {method 'acquire' of '_thread.lock' objects}\n",
      "    13312    3.510    0.000    3.510    0.000 {method 'item' of 'torch._C._TensorBase' objects}\n",
      "      317    2.706    0.009    2.706    0.009 {built-in method _winapi.WaitForSingleObject}\n",
      "   212992    2.665    0.000    2.665    0.000 {method 'mul_' of 'torch._C._TensorBase' objects}\n",
      "    10803    2.537    0.000    3.547    0.000 C:\\Users\\batua\\anaconda3\\envs\\rlnav\\lib\\site-packages\\torch\\distributions\\distribution.py:34(__init__)\n",
      "   203821    2.472    0.000    2.472    0.000 {built-in method numpy.array}\n",
      "     9984    2.081    0.000    8.063    0.001 C:\\Users\\batua\\anaconda3\\envs\\rlnav\\lib\\site-packages\\torch\\optim\\_functional.py:54(adam)\n",
      "     3328    1.722    0.001    6.032    0.002 c:\\users\\batua\\desktop\\rlnav\\rlagency\\stable-baselines3\\stable_baselines3\\common\\buffers.py:275(_get_samples)\n",
      "    74822    1.693    0.000    1.693    0.000 {built-in method relu}\n",
      "       13    1.495    0.115   70.742    5.442 c:\\users\\batua\\desktop\\rlnav\\rlagency\\stable-baselines3\\stable_baselines3\\sac\\sac.py:195(train)\n",
      "   159744    1.469    0.000    1.469    0.000 {method 'add_' of 'torch._C._TensorBase' objects}\n",
      "    79872    0.932    0.000    0.932    0.000 {method 'addcdiv_' of 'torch._C._TensorBase' objects}\n",
      "    79872    0.919    0.000    0.919    0.000 {method 'sqrt' of 'torch._C._TensorBase' objects}\n",
      "    16640    0.898    0.000    0.898    0.000 {built-in method tensor}\n",
      "     6656    0.880    0.000    2.134    0.000 C:\\Users\\batua\\anaconda3\\envs\\rlnav\\lib\\site-packages\\torch\\distributions\\normal.py:71(log_prob)\n",
      "     6656    0.856    0.000    1.104    0.000 C:\\Users\\batua\\anaconda3\\envs\\rlnav\\lib\\site-packages\\torch\\distributions\\distribution.py:240(_validate_sample)\n",
      "    79872    0.815    0.000    0.815    0.000 {method 'addcmul_' of 'torch._C._TensorBase' objects}\n",
      "        7    0.733    0.105    0.733    0.105 {built-in method time.sleep}\n",
      "    14918    0.707    0.000    0.707    0.000 {built-in method mm}\n",
      "261761/37411    0.626    0.000   13.703    0.000 C:\\Users\\batua\\anaconda3\\envs\\rlnav\\lib\\site-packages\\torch\\nn\\modules\\module.py:1045(_call_impl)\n",
      "     7459    0.600    0.000    4.016    0.001 c:\\users\\batua\\desktop\\rlnav\\rlagency\\stable-baselines3\\stable_baselines3\\common\\distributions.py:521(proba_distribution)\n",
      "    53248    0.587    0.000    0.587    0.000 {built-in method add}\n",
      "    34886    0.560    0.000   12.257    0.000 C:\\Users\\batua\\anaconda3\\envs\\rlnav\\lib\\site-packages\\torch\\nn\\modules\\container.py:137(forward)\n",
      "   559110    0.527    0.000    0.660    0.000 C:\\Users\\batua\\anaconda3\\envs\\rlnav\\lib\\site-packages\\torch\\_tensor.py:967(grad)\n",
      "    16640    0.524    0.000    0.524    0.000 {built-in method cat}\n",
      "    79848    0.510    0.000    0.510    0.000 {method 'zero_' of 'torch._C._TensorBase' objects}\n",
      "    28262    0.504    0.000    0.504    0.000 {method 'all' of 'torch._C._TensorBase' objects}\n",
      "     3328    0.451    0.000    8.271    0.002 c:\\users\\batua\\desktop\\rlnav\\rlagency\\stable-baselines3\\stable_baselines3\\common\\utils.py:383(polyak_update)\n",
      "     2192    0.445    0.000    0.521    0.000 <frozen importlib._bootstrap_external>:914(get_data)\n",
      "    11121    0.403    0.000    0.403    0.000 {built-in method nt.stat}\n",
      "    17459    0.380    0.000    0.380    0.000 C:\\Users\\batua\\anaconda3\\envs\\rlnav\\lib\\site-packages\\torch\\distributions\\constraints.py:300(check)\n",
      "476937/135618    0.363    0.000    0.400    0.000 C:\\Users\\batua\\anaconda3\\envs\\rlnav\\lib\\site-packages\\torch\\nn\\modules\\module.py:1577(named_modules)\n",
      "      965    0.353    0.000    3.035    0.003 c:\\users\\batua\\desktop\\rlnav\\rlagency\\ml-agents\\ml-agents-envs\\mlagents_envs\\environment.py:284(_update_state)\n",
      "   102249    0.350    0.000    8.959    0.000 C:\\Users\\batua\\anaconda3\\envs\\rlnav\\lib\\site-packages\\torch\\nn\\modules\\linear.py:95(forward)\n",
      "     6656    0.347    0.000    0.498    0.000 c:\\users\\batua\\desktop\\rlnav\\rlagency\\stable-baselines3\\stable_baselines3\\common\\distributions.py:617(atanh)\n",
      "     9984    0.334    0.000    8.768    0.001 C:\\Users\\batua\\anaconda3\\envs\\rlnav\\lib\\site-packages\\torch\\optim\\adam.py:55(step)\n",
      "    72848    0.333    0.000    0.333    0.000 {method 'reduce' of 'numpy.ufunc' objects}\n",
      "    10803    0.327    0.000    0.327    0.000 C:\\Users\\batua\\anaconda3\\envs\\rlnav\\lib\\site-packages\\torch\\distributions\\constraints.py:312(check)\n",
      "     9984    0.295    0.000    1.616    0.000 C:\\Users\\batua\\anaconda3\\envs\\rlnav\\lib\\site-packages\\torch\\optim\\optimizer.py:188(zero_grad)\n",
      "   283515    0.284    0.000    0.284    0.000 C:\\Users\\batua\\anaconda3\\envs\\rlnav\\lib\\site-packages\\torch\\nn\\modules\\module.py:1117(__getattr__)\n",
      "    14131    0.276    0.000    0.276    0.000 {built-in method exp}\n",
      "   114828    0.273    0.000    0.907    0.000 C:\\Users\\batua\\anaconda3\\envs\\rlnav\\lib\\site-packages\\torch\\nn\\modules\\module.py:1410(_named_members)\n",
      "     6656    0.273    0.000    3.960    0.001 c:\\users\\batua\\desktop\\rlnav\\rlagency\\stable-baselines3\\stable_baselines3\\common\\distributions.py:538(log_prob)\n",
      "     6688    0.272    0.000    0.586    0.000 C:\\Users\\batua\\anaconda3\\envs\\rlnav\\lib\\site-packages\\torch\\distributions\\normal.py:66(rsample)\n",
      "    19968    0.270    0.000    0.270    0.000 {built-in method torch._ops.profiler._record_function_enter}\n",
      "\n",
      "\n"
     ]
    },
    {
     "data": {
      "text/plain": [
       "<pstats.Stats at 0x2c2eebe2408>"
      ]
     },
     "execution_count": 50,
     "metadata": {},
     "output_type": "execute_result"
    }
   ],
   "source": [
    "# trainable params: 1176679\n",
    "# Custom built network \n",
    "\n",
    "mlp = pstats.Stats('profiling/mlp.file')\n",
    "mlp.sort_stats(\"tottime\").print_stats(50)"
   ]
  },
  {
   "cell_type": "markdown",
   "metadata": {},
   "source": [
    "# MLP"
   ]
  },
  {
   "cell_type": "code",
   "execution_count": null,
   "metadata": {},
   "outputs": [],
   "source": []
  },
  {
   "cell_type": "code",
   "execution_count": 34,
   "metadata": {},
   "outputs": [
    {
     "data": {
      "text/plain": [
       "91.30000000000001"
      ]
     },
     "execution_count": 34,
     "metadata": {},
     "output_type": "execute_result"
    }
   ],
   "source": [
    " 296.3 - 205 "
   ]
  },
  {
   "cell_type": "code",
   "execution_count": 44,
   "metadata": {},
   "outputs": [
    {
     "data": {
      "text/plain": [
       "351"
      ]
     },
     "execution_count": 44,
     "metadata": {},
     "output_type": "execute_result"
    }
   ],
   "source": [
    "572 - 221"
   ]
  },
  {
   "cell_type": "code",
   "execution_count": 36,
   "metadata": {},
   "outputs": [
    {
     "data": {
      "text/plain": [
       "100000.0"
      ]
     },
     "execution_count": 36,
     "metadata": {},
     "output_type": "execute_result"
    }
   ],
   "source": [
    "25000 / 64 * 256"
   ]
  },
  {
   "cell_type": "code",
   "execution_count": 49,
   "metadata": {},
   "outputs": [
    {
     "name": "stdout",
     "output_type": "stream",
     "text": [
      "Thu Aug 26 11:48:28 2021    profiling/custom_default.file\n",
      "\n",
      "         22640713 function calls (20719753 primitive calls) in 572.867 seconds\n",
      "\n",
      "   Ordered by: internal time\n",
      "   List reduced from 12740 to 10 due to restriction <10>\n",
      "\n",
      "   ncalls  tottime  percall  cumtime  percall filename:lineno(function)\n",
      "      967  221.673    0.229  221.673    0.229 {built-in method _winapi.WaitForMultipleObjects}\n",
      "    17589  101.472    0.006  101.473    0.006 {method 'to' of 'torch._C._TensorBase' objects}\n",
      "    13312   88.619    0.007   88.619    0.007 {method 'item' of 'torch._C._TensorBase' objects}\n",
      "     9984   37.219    0.004   37.219    0.004 {method 'run_backward' of 'torch._C._EngineBase' objects}\n",
      "    10803   13.235    0.001   14.405    0.001 C:\\Users\\batua\\anaconda3\\envs\\rlnav\\lib\\site-packages\\torch\\distributions\\distribution.py:34(__init__)\n",
      "    96512    9.498    0.000   11.620    0.000 c:\\users\\batua\\desktop\\rlnav\\rlagency\\stable-baselines3\\stable_baselines3\\common\\utils.py:365(zip_strict)\n",
      "    54864    9.221    0.000    9.221    0.000 {built-in method conv2d}\n",
      "    89740    7.524    0.000    7.524    0.000 {built-in method torch._C._nn.linear}\n",
      "    54864    6.765    0.000    6.765    0.000 {built-in method conv3d}\n",
      "   399360    4.860    0.000    4.860    0.000 {method 'mul_' of 'torch._C._TensorBase' objects}\n",
      "\n",
      "\n"
     ]
    },
    {
     "data": {
      "text/plain": [
       "<pstats.Stats at 0x2c28b3a59c8>"
      ]
     },
     "execution_count": 49,
     "metadata": {},
     "output_type": "execute_result"
    }
   ],
   "source": [
    "# trainable params: 6076679\n",
    "# Custom built network \n",
    "\n",
    "custom_default = pstats.Stats('profiling/custom_default.file')\n",
    "custom_default.sort_stats(\"tottime\").print_stats(10)"
   ]
  },
  {
   "cell_type": "markdown",
   "metadata": {},
   "source": [
    "# CONV2d / CONV3d"
   ]
  },
  {
   "cell_type": "code",
   "execution_count": 39,
   "metadata": {},
   "outputs": [
    {
     "name": "stdout",
     "output_type": "stream",
     "text": [
      "Thu Aug 26 12:13:01 2021    profiling/custom_numpyslice.file\n",
      "\n",
      "         22954041 function calls (21033095 primitive calls) in 619.846 seconds\n",
      "\n",
      "   Ordered by: internal time\n",
      "   List reduced from 12753 to 10 due to restriction <10>\n",
      "\n",
      "   ncalls  tottime  percall  cumtime  percall filename:lineno(function)\n",
      "      967  225.374    0.233  225.374    0.233 {built-in method _winapi.WaitForMultipleObjects}\n",
      "    28230  103.479    0.004  103.479    0.004 {method 'cpu' of 'torch._C._TensorBase' objects}\n",
      "    17589   82.290    0.005   82.291    0.005 {method 'to' of 'torch._C._TensorBase' objects}\n",
      "     9984   36.352    0.004   36.352    0.004 {method 'run_backward' of 'torch._C._EngineBase' objects}\n",
      "    10803   15.429    0.001   16.821    0.002 C:\\Users\\batua\\anaconda3\\envs\\rlnav\\lib\\site-packages\\torch\\distributions\\distribution.py:34(__init__)\n",
      "    13312   14.546    0.001   14.546    0.001 {method 'item' of 'torch._C._TensorBase' objects}\n",
      "    82281   12.137    0.000   12.137    0.000 {method 'cuda' of 'torch._C._TensorBase' objects}\n",
      "    54864   10.209    0.000   10.209    0.000 {built-in method conv2d}\n",
      "    96512   10.101    0.000   12.479    0.000 c:\\users\\batua\\desktop\\rlnav\\rlagency\\stable-baselines3\\stable_baselines3\\common\\utils.py:365(zip_strict)\n",
      "    89740    9.821    0.000    9.821    0.000 {built-in method torch._C._nn.linear}\n",
      "\n",
      "\n"
     ]
    },
    {
     "data": {
      "text/plain": [
       "<pstats.Stats at 0x2c2f1041cc8>"
      ]
     },
     "execution_count": 39,
     "metadata": {},
     "output_type": "execute_result"
    }
   ],
   "source": [
    "# trainable params: 6076679\n",
    "# Custom built network with slicing done converted to and back from numpy\n",
    "\n",
    "custom_numpyslice = pstats.Stats('profiling/custom_numpyslice.file')\n",
    "custom_numpyslice.sort_stats(\"tottime\").print_stats(10)"
   ]
  },
  {
   "cell_type": "code",
   "execution_count": 45,
   "metadata": {},
   "outputs": [
    {
     "name": "stdout",
     "output_type": "stream",
     "text": [
      "Thu Aug 26 13:55:55 2021    profiling/custom_new.file\n",
      "\n",
      "         23680886 function calls (21840620 primitive calls) in 1379.732 seconds\n",
      "\n",
      "   Ordered by: internal time\n",
      "   List reduced from 12757 to 10 due to restriction <10>\n",
      "\n",
      "   ncalls  tottime  percall  cumtime  percall filename:lineno(function)\n",
      "    13312  545.294    0.041  545.294    0.041 {method 'item' of 'torch._C._TensorBase' objects}\n",
      "    17609  289.391    0.016  289.392    0.016 {method 'to' of 'torch._C._TensorBase' objects}\n",
      "      967  234.159    0.242  234.159    0.242 {built-in method _winapi.WaitForMultipleObjects}\n",
      "    10803  123.615    0.011  125.501    0.012 C:\\Users\\batua\\anaconda3\\envs\\rlnav\\lib\\site-packages\\torch\\distributions\\distribution.py:34(__init__)\n",
      "     9984   46.179    0.005   46.179    0.005 {method 'run_backward' of 'torch._C._EngineBase' objects}\n",
      "   109824   11.302    0.000   13.715    0.000 c:\\users\\batua\\desktop\\rlnav\\rlagency\\stable-baselines3\\stable_baselines3\\common\\utils.py:365(zip_strict)\n",
      "   117167   11.132    0.000   11.132    0.000 {built-in method torch._C._nn.linear}\n",
      "    54864   10.634    0.000   10.634    0.000 {built-in method conv2d}\n",
      "    54864    9.265    0.000    9.265    0.000 {built-in method conv3d}\n",
      "   452608    6.435    0.000    6.435    0.000 {method 'mul_' of 'torch._C._TensorBase' objects}\n",
      "\n",
      "\n"
     ]
    },
    {
     "data": {
      "text/plain": [
       "<pstats.Stats at 0x2c2f87e4988>"
      ]
     },
     "execution_count": 45,
     "metadata": {},
     "output_type": "execute_result"
    }
   ],
   "source": [
    "# trainable params: 3610087\n",
    "# Custom built network  with Adam\n",
    "\n",
    "custom_new = pstats.Stats('profiling/custom_new.file')\n",
    "custom_new.sort_stats(\"tottime\").print_stats(10)"
   ]
  },
  {
   "cell_type": "code",
   "execution_count": 46,
   "metadata": {},
   "outputs": [
    {
     "data": {
      "text/plain": [
       "22.995533333333334"
      ]
     },
     "execution_count": 46,
     "metadata": {},
     "output_type": "execute_result"
    }
   ],
   "source": [
    "# trainable params: 3610087\n",
    "# Custom built network  with Adam\n",
    "\n",
    "only_cpu = pstats.Stats('profiling/only_cpu.file')\n",
    "only_cpu.sort_stats(\"tottime\").print_stats(10)"
   ]
  },
  {
   "cell_type": "code",
   "execution_count": null,
   "metadata": {},
   "outputs": [],
   "source": []
  }
 ],
 "metadata": {
  "accelerator": "GPU",
  "colab": {
   "name": "UnityML",
   "provenance": []
  },
  "kernelspec": {
   "display_name": "Python 3 (ipykernel)",
   "language": "python",
   "name": "python3"
  },
  "language_info": {
   "codemirror_mode": {
    "name": "ipython",
    "version": 3
   },
   "file_extension": ".py",
   "mimetype": "text/x-python",
   "name": "python",
   "nbconvert_exporter": "python",
   "pygments_lexer": "ipython3",
   "version": "3.7.10"
  }
 },
 "nbformat": 4,
 "nbformat_minor": 4
}
